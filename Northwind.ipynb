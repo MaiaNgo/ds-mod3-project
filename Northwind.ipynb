{
 "cells": [
  {
   "cell_type": "markdown",
   "metadata": {},
   "source": [
    "### The Goal\n",
    "\n",
    "The goal of your project is to query the database to get the data needed to perform a statistical analysis. In this statistical analysis, we'll need to perform a hypothesis test (or perhaps several) to answer the following questions:\n",
    "\n",
    "##### Question : Does discount amount have a statistically significant effect on the quantity of a product in an order? If so, at what level(s) of discount?\n"
   ]
  },
  {
   "cell_type": "markdown",
   "metadata": {},
   "source": [
    "![](Northwind_ERD.png)"
   ]
  },
  {
   "cell_type": "code",
   "execution_count": 1,
   "metadata": {},
   "outputs": [],
   "source": [
    "# Importing libraries\n",
    "import sqlite3 # for database\n",
    "import pandas as pd # for dataframe\n",
    "import matplotlib.pyplot as plt # plotting\n",
    "import seaborn as sns # plotting\n",
    "import numpy as np # analysis\n",
    "from scipy import stats # significance levels, normality\n",
    "from scipy.stats import ttest_ind\n",
    "import itertools # for combinations\n",
    "import statsmodels.api as sm # anova\n",
    "from statsmodels.formula.api import ols\n",
    "sns.set_style('whitegrid')\n",
    "plt.style.use('ggplot')\n",
    "#plt.xkcd();\n",
    "import warnings\n",
    "warnings.filterwarnings('ignore') # hide matplotlib warnings"
   ]
  },
  {
   "cell_type": "code",
   "execution_count": 2,
   "metadata": {},
   "outputs": [],
   "source": [
    "# Connecting to database\n",
    "conn = sqlite3.connect('Northwind_small.sqlite')\n",
    "c = conn.cursor()"
   ]
  },
  {
   "cell_type": "markdown",
   "metadata": {},
   "source": [
    "### Initial Exploratory Data Analysis - EDA:"
   ]
  },
  {
   "cell_type": "code",
   "execution_count": 3,
   "metadata": {},
   "outputs": [
    {
     "data": {
      "text/html": [
       "<div>\n",
       "<style scoped>\n",
       "    .dataframe tbody tr th:only-of-type {\n",
       "        vertical-align: middle;\n",
       "    }\n",
       "\n",
       "    .dataframe tbody tr th {\n",
       "        vertical-align: top;\n",
       "    }\n",
       "\n",
       "    .dataframe thead th {\n",
       "        text-align: right;\n",
       "    }\n",
       "</style>\n",
       "<table border=\"1\" class=\"dataframe\">\n",
       "  <thead>\n",
       "    <tr style=\"text-align: right;\">\n",
       "      <th></th>\n",
       "      <th>0</th>\n",
       "      <th>1</th>\n",
       "      <th>2</th>\n",
       "      <th>3</th>\n",
       "      <th>4</th>\n",
       "      <th>5</th>\n",
       "      <th>6</th>\n",
       "      <th>7</th>\n",
       "      <th>8</th>\n",
       "      <th>9</th>\n",
       "      <th>10</th>\n",
       "      <th>11</th>\n",
       "      <th>12</th>\n",
       "    </tr>\n",
       "  </thead>\n",
       "  <tbody>\n",
       "    <tr>\n",
       "      <th>NAME</th>\n",
       "      <td>Employee</td>\n",
       "      <td>Category</td>\n",
       "      <td>Customer</td>\n",
       "      <td>Shipper</td>\n",
       "      <td>Supplier</td>\n",
       "      <td>Order</td>\n",
       "      <td>Product</td>\n",
       "      <td>OrderDetail</td>\n",
       "      <td>CustomerCustomerDemo</td>\n",
       "      <td>CustomerDemographic</td>\n",
       "      <td>Region</td>\n",
       "      <td>Territory</td>\n",
       "      <td>EmployeeTerritory</td>\n",
       "    </tr>\n",
       "  </tbody>\n",
       "</table>\n",
       "</div>"
      ],
      "text/plain": [
       "            0         1         2        3         4      5        6   \\\n",
       "NAME  Employee  Category  Customer  Shipper  Supplier  Order  Product   \n",
       "\n",
       "               7                     8                    9       10  \\\n",
       "NAME  OrderDetail  CustomerCustomerDemo  CustomerDemographic  Region   \n",
       "\n",
       "             11                 12  \n",
       "NAME  Territory  EmployeeTerritory  "
      ]
     },
     "execution_count": 3,
     "metadata": {},
     "output_type": "execute_result"
    }
   ],
   "source": [
    "c.execute('''SELECT name as NAME FROM sqlite_master WHERE type='table';''')\n",
    "df = pd.DataFrame(c.fetchall()) #Take results and create dataframe\n",
    "df.columns = [i[0] for i in c.description]\n",
    "df.T"
   ]
  },
  {
   "cell_type": "code",
   "execution_count": 4,
   "metadata": {},
   "outputs": [
    {
     "name": "stdout",
     "output_type": "stream",
     "text": [
      "Index(['Id', 'LastName', 'FirstName', 'Title', 'TitleOfCourtesy', 'BirthDate',\n",
      "       'HireDate', 'Address', 'City', 'Region', 'PostalCode', 'Country',\n",
      "       'HomePhone', 'Extension', 'Photo', 'Notes', 'ReportsTo', 'PhotoPath'],\n",
      "      dtype='object')\n",
      "['USA' 'UK']\n"
     ]
    }
   ],
   "source": [
    "c.execute('''SELECT *\n",
    "              FROM Employee;''')\n",
    "df = pd.DataFrame(c.fetchall()) #Take results and create dataframe\n",
    "df.columns = [i[0] for i in c.description]\n",
    "print(df.columns)\n",
    "print(df['Country'].unique())\n",
    "#df.head(3)"
   ]
  },
  {
   "cell_type": "code",
   "execution_count": 5,
   "metadata": {},
   "outputs": [
    {
     "name": "stdout",
     "output_type": "stream",
     "text": [
      "[1 2 3 4 5 6 7 8]\n",
      "['Beverages' 'Condiments' 'Confections' 'Dairy Products' 'Grains/Cereals'\n",
      " 'Meat/Poultry' 'Produce' 'Seafood']\n"
     ]
    },
    {
     "data": {
      "text/html": [
       "<div>\n",
       "<style scoped>\n",
       "    .dataframe tbody tr th:only-of-type {\n",
       "        vertical-align: middle;\n",
       "    }\n",
       "\n",
       "    .dataframe tbody tr th {\n",
       "        vertical-align: top;\n",
       "    }\n",
       "\n",
       "    .dataframe thead th {\n",
       "        text-align: right;\n",
       "    }\n",
       "</style>\n",
       "<table border=\"1\" class=\"dataframe\">\n",
       "  <thead>\n",
       "    <tr style=\"text-align: right;\">\n",
       "      <th></th>\n",
       "      <th>0</th>\n",
       "      <th>1</th>\n",
       "      <th>2</th>\n",
       "      <th>3</th>\n",
       "      <th>4</th>\n",
       "      <th>5</th>\n",
       "      <th>6</th>\n",
       "      <th>7</th>\n",
       "    </tr>\n",
       "  </thead>\n",
       "  <tbody>\n",
       "    <tr>\n",
       "      <th>Id</th>\n",
       "      <td>1</td>\n",
       "      <td>2</td>\n",
       "      <td>3</td>\n",
       "      <td>4</td>\n",
       "      <td>5</td>\n",
       "      <td>6</td>\n",
       "      <td>7</td>\n",
       "      <td>8</td>\n",
       "    </tr>\n",
       "    <tr>\n",
       "      <th>CategoryName</th>\n",
       "      <td>Beverages</td>\n",
       "      <td>Condiments</td>\n",
       "      <td>Confections</td>\n",
       "      <td>Dairy Products</td>\n",
       "      <td>Grains/Cereals</td>\n",
       "      <td>Meat/Poultry</td>\n",
       "      <td>Produce</td>\n",
       "      <td>Seafood</td>\n",
       "    </tr>\n",
       "    <tr>\n",
       "      <th>Description</th>\n",
       "      <td>Soft drinks, coffees, teas, beers, and ales</td>\n",
       "      <td>Sweet and savory sauces, relishes, spreads, an...</td>\n",
       "      <td>Desserts, candies, and sweet breads</td>\n",
       "      <td>Cheeses</td>\n",
       "      <td>Breads, crackers, pasta, and cereal</td>\n",
       "      <td>Prepared meats</td>\n",
       "      <td>Dried fruit and bean curd</td>\n",
       "      <td>Seaweed and fish</td>\n",
       "    </tr>\n",
       "  </tbody>\n",
       "</table>\n",
       "</div>"
      ],
      "text/plain": [
       "                                                        0  \\\n",
       "Id                                                      1   \n",
       "CategoryName                                    Beverages   \n",
       "Description   Soft drinks, coffees, teas, beers, and ales   \n",
       "\n",
       "                                                              1  \\\n",
       "Id                                                            2   \n",
       "CategoryName                                         Condiments   \n",
       "Description   Sweet and savory sauces, relishes, spreads, an...   \n",
       "\n",
       "                                                2               3  \\\n",
       "Id                                              3               4   \n",
       "CategoryName                          Confections  Dairy Products   \n",
       "Description   Desserts, candies, and sweet breads         Cheeses   \n",
       "\n",
       "                                                4               5  \\\n",
       "Id                                              5               6   \n",
       "CategoryName                       Grains/Cereals    Meat/Poultry   \n",
       "Description   Breads, crackers, pasta, and cereal  Prepared meats   \n",
       "\n",
       "                                      6                 7  \n",
       "Id                                    7                 8  \n",
       "CategoryName                    Produce           Seafood  \n",
       "Description   Dried fruit and bean curd  Seaweed and fish  "
      ]
     },
     "execution_count": 5,
     "metadata": {},
     "output_type": "execute_result"
    }
   ],
   "source": [
    "c.execute('''SELECT *\n",
    "              FROM Category;''')\n",
    "df = pd.DataFrame(c.fetchall()) #Take results and create dataframe\n",
    "df.columns = [i[0] for i in c.description]\n",
    "\n",
    "print(df['Id'].unique())\n",
    "print(df['CategoryName'].unique())\n",
    "df.T"
   ]
  },
  {
   "cell_type": "code",
   "execution_count": 6,
   "metadata": {},
   "outputs": [
    {
     "name": "stdout",
     "output_type": "stream",
     "text": [
      " There are  77 product names\n"
     ]
    }
   ],
   "source": [
    "c.execute('''SELECT *\n",
    "              FROM Product;''')\n",
    "df = pd.DataFrame(c.fetchall()) #Take results and create dataframe\n",
    "df.columns = [i[0] for i in c.description]\n",
    "print(' There are ', df['ProductName'].count(), 'product names')\n",
    "# print(df['ProductName'].unique())\n",
    "# df.head(3)\n",
    "# df.tail(3)\n"
   ]
  },
  {
   "cell_type": "code",
   "execution_count": 7,
   "metadata": {},
   "outputs": [
    {
     "name": "stdout",
     "output_type": "stream",
     "text": [
      "There are  77 product id\n",
      "There are  11 discount levels which includes 0% discount\n"
     ]
    },
    {
     "data": {
      "text/html": [
       "<div>\n",
       "<style scoped>\n",
       "    .dataframe tbody tr th:only-of-type {\n",
       "        vertical-align: middle;\n",
       "    }\n",
       "\n",
       "    .dataframe tbody tr th {\n",
       "        vertical-align: top;\n",
       "    }\n",
       "\n",
       "    .dataframe thead th {\n",
       "        text-align: right;\n",
       "    }\n",
       "</style>\n",
       "<table border=\"1\" class=\"dataframe\">\n",
       "  <thead>\n",
       "    <tr style=\"text-align: right;\">\n",
       "      <th>Discount</th>\n",
       "      <th>0.0</th>\n",
       "      <th>0.01</th>\n",
       "      <th>0.02</th>\n",
       "      <th>0.03</th>\n",
       "      <th>0.04</th>\n",
       "      <th>0.05</th>\n",
       "      <th>0.06</th>\n",
       "      <th>0.1</th>\n",
       "      <th>0.15</th>\n",
       "      <th>0.2</th>\n",
       "      <th>0.25</th>\n",
       "    </tr>\n",
       "  </thead>\n",
       "  <tbody>\n",
       "    <tr>\n",
       "      <th>Quantity</th>\n",
       "      <td>28599</td>\n",
       "      <td>2</td>\n",
       "      <td>4</td>\n",
       "      <td>5</td>\n",
       "      <td>1</td>\n",
       "      <td>5182</td>\n",
       "      <td>2</td>\n",
       "      <td>4366</td>\n",
       "      <td>4456</td>\n",
       "      <td>4351</td>\n",
       "      <td>4349</td>\n",
       "    </tr>\n",
       "  </tbody>\n",
       "</table>\n",
       "</div>"
      ],
      "text/plain": [
       "Discount   0.00  0.01  0.02  0.03  0.04  0.05  0.06  0.10  0.15  0.20  0.25\n",
       "Quantity  28599     2     4     5     1  5182     2  4366  4456  4351  4349"
      ]
     },
     "execution_count": 7,
     "metadata": {},
     "output_type": "execute_result"
    }
   ],
   "source": [
    "c.execute('''SELECT *\n",
    "              FROM OrderDetail;''')\n",
    "df = pd.DataFrame(c.fetchall()) # Create dataframe\n",
    "df.columns = [i[0] for i in c.description]\n",
    "product_id = np.sort(df['ProductId'].unique())\n",
    "print('There are ', len(product_id), 'product id')\n",
    "df_D_P = df.groupby(['Discount']).sum().iloc[:, 3:4]\n",
    "print('There are ', len(df_D_P), 'discount levels which includes 0% discount')\n",
    "df_D_P.T"
   ]
  },
  {
   "cell_type": "code",
   "execution_count": 8,
   "metadata": {},
   "outputs": [
    {
     "data": {
      "text/html": [
       "<div>\n",
       "<style scoped>\n",
       "    .dataframe tbody tr th:only-of-type {\n",
       "        vertical-align: middle;\n",
       "    }\n",
       "\n",
       "    .dataframe tbody tr th {\n",
       "        vertical-align: top;\n",
       "    }\n",
       "\n",
       "    .dataframe thead th {\n",
       "        text-align: right;\n",
       "    }\n",
       "</style>\n",
       "<table border=\"1\" class=\"dataframe\">\n",
       "  <thead>\n",
       "    <tr style=\"text-align: right;\">\n",
       "      <th></th>\n",
       "      <th>CompanyName</th>\n",
       "      <th>ContactName</th>\n",
       "      <th>ContactTitle</th>\n",
       "      <th>Address</th>\n",
       "      <th>City</th>\n",
       "      <th>Region</th>\n",
       "      <th>PostalCode</th>\n",
       "      <th>Country</th>\n",
       "      <th>Phone</th>\n",
       "      <th>Fax</th>\n",
       "      <th>HomePage</th>\n",
       "    </tr>\n",
       "  </thead>\n",
       "  <tbody>\n",
       "    <tr>\n",
       "      <th>count</th>\n",
       "      <td>29</td>\n",
       "      <td>29</td>\n",
       "      <td>29</td>\n",
       "      <td>29</td>\n",
       "      <td>29</td>\n",
       "      <td>29</td>\n",
       "      <td>29</td>\n",
       "      <td>29</td>\n",
       "      <td>29</td>\n",
       "      <td>13</td>\n",
       "      <td>5</td>\n",
       "    </tr>\n",
       "    <tr>\n",
       "      <th>unique</th>\n",
       "      <td>29</td>\n",
       "      <td>29</td>\n",
       "      <td>15</td>\n",
       "      <td>29</td>\n",
       "      <td>29</td>\n",
       "      <td>11</td>\n",
       "      <td>29</td>\n",
       "      <td>16</td>\n",
       "      <td>29</td>\n",
       "      <td>13</td>\n",
       "      <td>5</td>\n",
       "    </tr>\n",
       "    <tr>\n",
       "      <th>top</th>\n",
       "      <td>Pavlova, Ltd.</td>\n",
       "      <td>Niels Petersen</td>\n",
       "      <td>Sales Representative</td>\n",
       "      <td>471 Serangoon Loop, Suite #402</td>\n",
       "      <td>Osaka</td>\n",
       "      <td>North America</td>\n",
       "      <td>27478</td>\n",
       "      <td>USA</td>\n",
       "      <td>85.57.00.07</td>\n",
       "      <td>(12345) 1210</td>\n",
       "      <td>#FORMAGGI.HTM#</td>\n",
       "    </tr>\n",
       "    <tr>\n",
       "      <th>freq</th>\n",
       "      <td>1</td>\n",
       "      <td>1</td>\n",
       "      <td>6</td>\n",
       "      <td>1</td>\n",
       "      <td>1</td>\n",
       "      <td>6</td>\n",
       "      <td>1</td>\n",
       "      <td>4</td>\n",
       "      <td>1</td>\n",
       "      <td>1</td>\n",
       "      <td>1</td>\n",
       "    </tr>\n",
       "  </tbody>\n",
       "</table>\n",
       "</div>"
      ],
      "text/plain": [
       "          CompanyName     ContactName          ContactTitle  \\\n",
       "count              29              29                    29   \n",
       "unique             29              29                    15   \n",
       "top     Pavlova, Ltd.  Niels Petersen  Sales Representative   \n",
       "freq                1               1                     6   \n",
       "\n",
       "                               Address   City         Region PostalCode  \\\n",
       "count                               29     29             29         29   \n",
       "unique                              29     29             11         29   \n",
       "top     471 Serangoon Loop, Suite #402  Osaka  North America      27478   \n",
       "freq                                 1      1              6          1   \n",
       "\n",
       "       Country        Phone           Fax        HomePage  \n",
       "count       29           29            13               5  \n",
       "unique      16           29            13               5  \n",
       "top        USA  85.57.00.07  (12345) 1210  #FORMAGGI.HTM#  \n",
       "freq         4            1             1               1  "
      ]
     },
     "execution_count": 8,
     "metadata": {},
     "output_type": "execute_result"
    }
   ],
   "source": [
    "c.execute('''SELECT *\n",
    "              FROM Supplier;''')\n",
    "df = pd.DataFrame(c.fetchall()) #Take results and create dataframe\n",
    "df.columns = [i[0] for i in c.description]\n",
    "df.describe(include=['object', 'bool'])\n"
   ]
  },
  {
   "cell_type": "code",
   "execution_count": 9,
   "metadata": {},
   "outputs": [
    {
     "data": {
      "text/html": [
       "<div>\n",
       "<style scoped>\n",
       "    .dataframe tbody tr th:only-of-type {\n",
       "        vertical-align: middle;\n",
       "    }\n",
       "\n",
       "    .dataframe tbody tr th {\n",
       "        vertical-align: top;\n",
       "    }\n",
       "\n",
       "    .dataframe thead tr th {\n",
       "        text-align: left;\n",
       "    }\n",
       "</style>\n",
       "<table border=\"1\" class=\"dataframe\">\n",
       "  <thead>\n",
       "    <tr>\n",
       "      <th>Country</th>\n",
       "      <th colspan=\"4\" halign=\"left\">UK</th>\n",
       "      <th colspan=\"5\" halign=\"left\">USA</th>\n",
       "    </tr>\n",
       "    <tr>\n",
       "      <th>SalePerson</th>\n",
       "      <th>Anne Dodsworth</th>\n",
       "      <th>Michael Suyama</th>\n",
       "      <th>Robert King</th>\n",
       "      <th>Steven Buchanan</th>\n",
       "      <th>Andrew Fuller</th>\n",
       "      <th>Janet Leverling</th>\n",
       "      <th>Laura Callahan</th>\n",
       "      <th>Margaret Peacock</th>\n",
       "      <th>Nancy Davolio</th>\n",
       "    </tr>\n",
       "  </thead>\n",
       "  <tbody>\n",
       "    <tr>\n",
       "      <th>Quantity</th>\n",
       "      <td>2670</td>\n",
       "      <td>3527</td>\n",
       "      <td>4654</td>\n",
       "      <td>3036</td>\n",
       "      <td>6055</td>\n",
       "      <td>7852</td>\n",
       "      <td>5913</td>\n",
       "      <td>9798</td>\n",
       "      <td>7812</td>\n",
       "    </tr>\n",
       "  </tbody>\n",
       "</table>\n",
       "</div>"
      ],
      "text/plain": [
       "Country                UK                                             \\\n",
       "SalePerson Anne Dodsworth Michael Suyama Robert King Steven Buchanan   \n",
       "Quantity             2670           3527        4654            3036   \n",
       "\n",
       "Country              USA                                                  \\\n",
       "SalePerson Andrew Fuller Janet Leverling Laura Callahan Margaret Peacock   \n",
       "Quantity            6055            7852           5913             9798   \n",
       "\n",
       "Country                   \n",
       "SalePerson Nancy Davolio  \n",
       "Quantity            7812  "
      ]
     },
     "execution_count": 9,
     "metadata": {},
     "output_type": "execute_result"
    }
   ],
   "source": [
    "# query all order detail with employee info\n",
    "c.execute('''\n",
    "            SELECT E.Country, E.ID AS SalePersonID, \n",
    "            (E.FirstName || ' ' || E.LastName) AS SalePerson,\n",
    "            OD.ProductID, OD.Discount, OD.Quantity\n",
    "            FROM Employee AS E\n",
    "            INNER JOIN 'Order' AS O ON E.ID=O.EmployeeID\n",
    "            INNER JOIN OrderDetail AS OD ON O.ID=OD.OrderID\n",
    "          ''')\n",
    "empl_sale_df = pd.DataFrame(c.fetchall())\n",
    "empl_sale_df.columns = [i[0] for i in c.description]\n",
    "sale_employee_country = empl_sale_df.groupby(['Country', 'SalePerson'])\\\n",
    "                                    .sum().iloc[:, 3:4]\n",
    "sale_employee_country.T"
   ]
  },
  {
   "cell_type": "code",
   "execution_count": 10,
   "metadata": {},
   "outputs": [
    {
     "name": "stdout",
     "output_type": "stream",
     "text": [
      "            0     1     2     3     4     5      6     7     8     9     10  \\\n",
      "Country     UK    UK    UK    UK    UK    UK    USA   USA   USA   USA   USA   \n",
      "Discount     0  0.05   0.1  0.15   0.2  0.25      0  0.01  0.02  0.03  0.04   \n",
      "Quantity  6792  1510  1428  1412  1200  1545  21807     2     4     5     1   \n",
      "\n",
      "            11    12    13    14    15    16  \n",
      "Country    USA   USA   USA   USA   USA   USA  \n",
      "Discount  0.05  0.06   0.1  0.15   0.2  0.25  \n",
      "Quantity  3672     2  2938  3044  3151  2804  \n"
     ]
    },
    {
     "data": {
      "image/png": "[encoded data removed]",
      "text/plain": [
       "<Figure size 416.375x360 with 1 Axes>"
      ]
     },
     "metadata": {
      "needs_background": "light"
     },
     "output_type": "display_data"
    }
   ],
   "source": [
    "# group employee sale details by employee country and discount to calculate sum of sale quantity\n",
    "empl_sale_df1 = empl_sale_df.groupby(['Country', 'Discount']).sum()\n",
    "empl_sale_df1.drop(columns=['ProductId', 'SalePersonID'], inplace=True)\n",
    "empl_sale_df1.reset_index(inplace=True)\n",
    "print(empl_sale_df1.T)\n",
    "\n",
    "# plot\n",
    "g = sns.catplot(data=empl_sale_df1, x='Discount',\n",
    "                y='Quantity', hue='Country', kind=\"bar\", palette='cool')\n",
    "g.set_ylabels(\"Sale by discount level\");"
   ]
  },
  {
   "cell_type": "code",
   "execution_count": 11,
   "metadata": {},
   "outputs": [
    {
     "name": "stdout",
     "output_type": "stream",
     "text": [
      "         SalePerson  SalePersonID  Quantity\n",
      "0     Andrew Fuller             2      6055\n",
      "1    Anne Dodsworth             9      2670\n",
      "2   Janet Leverling             3      7852\n",
      "3    Laura Callahan             8      5913\n",
      "4  Margaret Peacock             4      9798\n",
      "5    Michael Suyama             6      3527\n",
      "6     Nancy Davolio             1      7812\n",
      "7       Robert King             7      4654\n",
      "8   Steven Buchanan             5      3036\n"
     ]
    },
    {
     "data": {
      "image/png": "[encoded data removed]",
      "text/plain": [
       "<Figure size 360x360 with 1 Axes>"
      ]
     },
     "metadata": {
      "needs_background": "light"
     },
     "output_type": "display_data"
    }
   ],
   "source": [
    "# group employee sale details by employee to calculate sum of sale quantity\n",
    "empl_sale_df2 = empl_sale_df.groupby(['SalePerson', 'SalePersonID']).sum()\n",
    "empl_sale_df2.drop(columns=['ProductId', 'Discount'], inplace=True)\n",
    "empl_sale_df2.reset_index(inplace=True)\n",
    "print(empl_sale_df2)\n",
    "\n",
    "# plot\n",
    "g = sns.catplot(data=empl_sale_df2, x='SalePerson', y='Quantity', kind=\"bar\")\n",
    "g.set_ylabels(\"Sale by Employee\")\n",
    "g.set_xticklabels(rotation=45);"
   ]
  },
  {
   "cell_type": "code",
   "execution_count": 12,
   "metadata": {},
   "outputs": [
    {
     "data": {
      "image/png": "[encoded data removed]",
      "text/plain": [
       "<Figure size 775.375x720 with 1 Axes>"
      ]
     },
     "metadata": {
      "needs_background": "light"
     },
     "output_type": "display_data"
    }
   ],
   "source": [
    "# group employee sale details by employee and discount to calculate sum of sale quantity\n",
    "empl_sale_df3 = empl_sale_df.groupby(['SalePerson', 'Discount']).sum()\n",
    "empl_sale_df3.drop(columns=['ProductId'], inplace=True)\n",
    "empl_sale_df3.reset_index(inplace=True)\n",
    "\n",
    "# plot\n",
    "g = sns.catplot(data=empl_sale_df3, x='SalePerson', y='Quantity',\n",
    "                           hue='Discount', kind=\"bar\", height=10)\n",
    "g.set_ylabels(\"Sale by Employee and Discount Level\")\n",
    "g.set_xticklabels(rotation=45);"
   ]
  },
  {
   "cell_type": "markdown",
   "metadata": {},
   "source": [
    "### LOAD FROM DATABASE TABLES TO DATAFRAMES "
   ]
  },
  {
   "cell_type": "code",
   "execution_count": 13,
   "metadata": {},
   "outputs": [
    {
     "name": "stdout",
     "output_type": "stream",
     "text": [
      "['Employee_df', 'Category_df', 'Customer_df', 'Shipper_df', 'Supplier_df', 'Order_df', 'Product_df', 'OrderDetail_df', 'CustomerCustomerDemo_df', 'CustomerDemographic_df', 'Region_df', 'Territory_df', 'EmployeeTerritory_df']\n"
     ]
    }
   ],
   "source": [
    "c.execute('''SELECT name as NAME FROM sqlite_master WHERE type='table';''')\n",
    "df = pd.DataFrame(c.fetchall())\n",
    "df[:][0]\n",
    "\n",
    "df_all = []\n",
    "for i in df[:][0]:\n",
    "    table = c.execute('select * from \"'+i+'\"').fetchall()\n",
    "    # for table i, get the metadata of table i\n",
    "    columns = c.execute('PRAGMA table_info(\"'+i+'\")').fetchall() \n",
    "    # use table column names as the dataframe column names   \n",
    "    df = pd.DataFrame(table, columns=[i[1] for i in columns]) \n",
    "    df_name = i+\"_df\" # Assign name for each table\n",
    "    exec(df_name + \" = df\") # => TableName_df\n",
    "    # store all dataframe names in the list\n",
    "    df_all.append(df_name)\n",
    "    #try : Product_df, OrderDetail_df, etc.\n",
    "print(df_all)\n"
   ]
  },
  {
   "cell_type": "code",
   "execution_count": 14,
   "metadata": {},
   "outputs": [
    {
     "name": "stdout",
     "output_type": "stream",
     "text": [
      "There are  29 suppliers\n"
     ]
    }
   ],
   "source": [
    "# Supplier_df['CompanyName'].unique()    # Total: 29 CompanyName\n",
    "# Supplier_df['Id'].unique()             # Total: 29\n",
    "print('There are ', len(Supplier_df), 'suppliers')"
   ]
  },
  {
   "cell_type": "markdown",
   "metadata": {},
   "source": [
    "### Exploratory Data Analysis - EDA:\n",
    "\n",
    "Order quantities of discounted and not discounted products\n",
    "\n",
    "Table Product has 77 entries, each entry is unique product\n",
    "\n",
    "First we can check visually to see if discount really made a difference in product quantity of order\n"
   ]
  },
  {
   "cell_type": "code",
   "execution_count": 15,
   "metadata": {},
   "outputs": [
    {
     "data": {
      "text/html": [
       "<div>\n",
       "<style scoped>\n",
       "    .dataframe tbody tr th:only-of-type {\n",
       "        vertical-align: middle;\n",
       "    }\n",
       "\n",
       "    .dataframe tbody tr th {\n",
       "        vertical-align: top;\n",
       "    }\n",
       "\n",
       "    .dataframe thead th {\n",
       "        text-align: right;\n",
       "    }\n",
       "</style>\n",
       "<table border=\"1\" class=\"dataframe\">\n",
       "  <thead>\n",
       "    <tr style=\"text-align: right;\">\n",
       "      <th></th>\n",
       "      <th>Id</th>\n",
       "      <th>OrderId</th>\n",
       "      <th>ProductId</th>\n",
       "      <th>UnitPrice</th>\n",
       "      <th>Quantity</th>\n",
       "      <th>Discount</th>\n",
       "    </tr>\n",
       "  </thead>\n",
       "  <tbody>\n",
       "    <tr>\n",
       "      <th>0</th>\n",
       "      <td>10248/11</td>\n",
       "      <td>10248</td>\n",
       "      <td>11</td>\n",
       "      <td>14.0</td>\n",
       "      <td>12</td>\n",
       "      <td>0.0</td>\n",
       "    </tr>\n",
       "    <tr>\n",
       "      <th>1</th>\n",
       "      <td>10248/42</td>\n",
       "      <td>10248</td>\n",
       "      <td>42</td>\n",
       "      <td>9.8</td>\n",
       "      <td>10</td>\n",
       "      <td>0.0</td>\n",
       "    </tr>\n",
       "    <tr>\n",
       "      <th>2</th>\n",
       "      <td>10248/72</td>\n",
       "      <td>10248</td>\n",
       "      <td>72</td>\n",
       "      <td>34.8</td>\n",
       "      <td>5</td>\n",
       "      <td>0.0</td>\n",
       "    </tr>\n",
       "    <tr>\n",
       "      <th>3</th>\n",
       "      <td>10249/14</td>\n",
       "      <td>10249</td>\n",
       "      <td>14</td>\n",
       "      <td>18.6</td>\n",
       "      <td>9</td>\n",
       "      <td>0.0</td>\n",
       "    </tr>\n",
       "    <tr>\n",
       "      <th>4</th>\n",
       "      <td>10249/51</td>\n",
       "      <td>10249</td>\n",
       "      <td>51</td>\n",
       "      <td>42.4</td>\n",
       "      <td>40</td>\n",
       "      <td>0.0</td>\n",
       "    </tr>\n",
       "  </tbody>\n",
       "</table>\n",
       "</div>"
      ],
      "text/plain": [
       "         Id  OrderId  ProductId  UnitPrice  Quantity  Discount\n",
       "0  10248/11    10248         11       14.0        12       0.0\n",
       "1  10248/42    10248         42        9.8        10       0.0\n",
       "2  10248/72    10248         72       34.8         5       0.0\n",
       "3  10249/14    10249         14       18.6         9       0.0\n",
       "4  10249/51    10249         51       42.4        40       0.0"
      ]
     },
     "execution_count": 15,
     "metadata": {},
     "output_type": "execute_result"
    }
   ],
   "source": [
    "OrderDetail_df.head()"
   ]
  },
  {
   "cell_type": "code",
   "execution_count": 16,
   "metadata": {},
   "outputs": [
    {
     "name": "stdout",
     "output_type": "stream",
     "text": [
      "<class 'pandas.core.frame.DataFrame'>\n",
      "RangeIndex: 2155 entries, 0 to 2154\n",
      "Data columns (total 6 columns):\n",
      "Id           2155 non-null object\n",
      "OrderId      2155 non-null int64\n",
      "ProductId    2155 non-null int64\n",
      "UnitPrice    2155 non-null float64\n",
      "Quantity     2155 non-null int64\n",
      "Discount     2155 non-null float64\n",
      "dtypes: float64(2), int64(3), object(1)\n",
      "memory usage: 101.1+ KB\n"
     ]
    }
   ],
   "source": [
    "OrderDetail_df.info()"
   ]
  },
  {
   "cell_type": "code",
   "execution_count": 17,
   "metadata": {},
   "outputs": [
    {
     "data": {
      "text/plain": [
       "Id           0\n",
       "OrderId      0\n",
       "ProductId    0\n",
       "UnitPrice    0\n",
       "Quantity     0\n",
       "Discount     0\n",
       "dtype: int64"
      ]
     },
     "execution_count": 17,
     "metadata": {},
     "output_type": "execute_result"
    }
   ],
   "source": [
    "OrderDetail_df.isnull().sum()"
   ]
  },
  {
   "cell_type": "code",
   "execution_count": 18,
   "metadata": {},
   "outputs": [
    {
     "data": {
      "text/html": [
       "<div>\n",
       "<style scoped>\n",
       "    .dataframe tbody tr th:only-of-type {\n",
       "        vertical-align: middle;\n",
       "    }\n",
       "\n",
       "    .dataframe tbody tr th {\n",
       "        vertical-align: top;\n",
       "    }\n",
       "\n",
       "    .dataframe thead th {\n",
       "        text-align: right;\n",
       "    }\n",
       "</style>\n",
       "<table border=\"1\" class=\"dataframe\">\n",
       "  <thead>\n",
       "    <tr style=\"text-align: right;\">\n",
       "      <th></th>\n",
       "      <th>OrderId</th>\n",
       "      <th>ProductId</th>\n",
       "      <th>UnitPrice</th>\n",
       "      <th>Quantity</th>\n",
       "      <th>Discount</th>\n",
       "    </tr>\n",
       "  </thead>\n",
       "  <tbody>\n",
       "    <tr>\n",
       "      <th>count</th>\n",
       "      <td>2155.000000</td>\n",
       "      <td>2155.000000</td>\n",
       "      <td>2155.000000</td>\n",
       "      <td>2155.000000</td>\n",
       "      <td>2155.000000</td>\n",
       "    </tr>\n",
       "    <tr>\n",
       "      <th>mean</th>\n",
       "      <td>10659.375870</td>\n",
       "      <td>40.793039</td>\n",
       "      <td>26.218520</td>\n",
       "      <td>23.812993</td>\n",
       "      <td>0.056167</td>\n",
       "    </tr>\n",
       "    <tr>\n",
       "      <th>std</th>\n",
       "      <td>241.378032</td>\n",
       "      <td>22.159019</td>\n",
       "      <td>29.827418</td>\n",
       "      <td>19.022047</td>\n",
       "      <td>0.083450</td>\n",
       "    </tr>\n",
       "    <tr>\n",
       "      <th>min</th>\n",
       "      <td>10248.000000</td>\n",
       "      <td>1.000000</td>\n",
       "      <td>2.000000</td>\n",
       "      <td>1.000000</td>\n",
       "      <td>0.000000</td>\n",
       "    </tr>\n",
       "    <tr>\n",
       "      <th>25%</th>\n",
       "      <td>10451.000000</td>\n",
       "      <td>22.000000</td>\n",
       "      <td>12.000000</td>\n",
       "      <td>10.000000</td>\n",
       "      <td>0.000000</td>\n",
       "    </tr>\n",
       "    <tr>\n",
       "      <th>50%</th>\n",
       "      <td>10657.000000</td>\n",
       "      <td>41.000000</td>\n",
       "      <td>18.400000</td>\n",
       "      <td>20.000000</td>\n",
       "      <td>0.000000</td>\n",
       "    </tr>\n",
       "    <tr>\n",
       "      <th>75%</th>\n",
       "      <td>10862.500000</td>\n",
       "      <td>60.000000</td>\n",
       "      <td>32.000000</td>\n",
       "      <td>30.000000</td>\n",
       "      <td>0.100000</td>\n",
       "    </tr>\n",
       "    <tr>\n",
       "      <th>max</th>\n",
       "      <td>11077.000000</td>\n",
       "      <td>77.000000</td>\n",
       "      <td>263.500000</td>\n",
       "      <td>130.000000</td>\n",
       "      <td>0.250000</td>\n",
       "    </tr>\n",
       "  </tbody>\n",
       "</table>\n",
       "</div>"
      ],
      "text/plain": [
       "            OrderId    ProductId    UnitPrice     Quantity     Discount\n",
       "count   2155.000000  2155.000000  2155.000000  2155.000000  2155.000000\n",
       "mean   10659.375870    40.793039    26.218520    23.812993     0.056167\n",
       "std      241.378032    22.159019    29.827418    19.022047     0.083450\n",
       "min    10248.000000     1.000000     2.000000     1.000000     0.000000\n",
       "25%    10451.000000    22.000000    12.000000    10.000000     0.000000\n",
       "50%    10657.000000    41.000000    18.400000    20.000000     0.000000\n",
       "75%    10862.500000    60.000000    32.000000    30.000000     0.100000\n",
       "max    11077.000000    77.000000   263.500000   130.000000     0.250000"
      ]
     },
     "execution_count": 18,
     "metadata": {},
     "output_type": "execute_result"
    }
   ],
   "source": [
    "OrderDetail_df.describe()"
   ]
  },
  {
   "cell_type": "code",
   "execution_count": 19,
   "metadata": {},
   "outputs": [
    {
     "data": {
      "text/html": [
       "<div>\n",
       "<style scoped>\n",
       "    .dataframe tbody tr th:only-of-type {\n",
       "        vertical-align: middle;\n",
       "    }\n",
       "\n",
       "    .dataframe tbody tr th {\n",
       "        vertical-align: top;\n",
       "    }\n",
       "\n",
       "    .dataframe thead th {\n",
       "        text-align: right;\n",
       "    }\n",
       "</style>\n",
       "<table border=\"1\" class=\"dataframe\">\n",
       "  <thead>\n",
       "    <tr style=\"text-align: right;\">\n",
       "      <th></th>\n",
       "      <th>Id</th>\n",
       "      <th>OrderId</th>\n",
       "      <th>ProductId</th>\n",
       "      <th>UnitPrice</th>\n",
       "      <th>Quantity</th>\n",
       "      <th>Discount</th>\n",
       "      <th>Discount_code</th>\n",
       "    </tr>\n",
       "  </thead>\n",
       "  <tbody>\n",
       "    <tr>\n",
       "      <th>0</th>\n",
       "      <td>10248/11</td>\n",
       "      <td>10248</td>\n",
       "      <td>11</td>\n",
       "      <td>14.0</td>\n",
       "      <td>12</td>\n",
       "      <td>0.0</td>\n",
       "      <td>N</td>\n",
       "    </tr>\n",
       "    <tr>\n",
       "      <th>1</th>\n",
       "      <td>10248/42</td>\n",
       "      <td>10248</td>\n",
       "      <td>42</td>\n",
       "      <td>9.8</td>\n",
       "      <td>10</td>\n",
       "      <td>0.0</td>\n",
       "      <td>N</td>\n",
       "    </tr>\n",
       "    <tr>\n",
       "      <th>2</th>\n",
       "      <td>10248/72</td>\n",
       "      <td>10248</td>\n",
       "      <td>72</td>\n",
       "      <td>34.8</td>\n",
       "      <td>5</td>\n",
       "      <td>0.0</td>\n",
       "      <td>N</td>\n",
       "    </tr>\n",
       "    <tr>\n",
       "      <th>3</th>\n",
       "      <td>10249/14</td>\n",
       "      <td>10249</td>\n",
       "      <td>14</td>\n",
       "      <td>18.6</td>\n",
       "      <td>9</td>\n",
       "      <td>0.0</td>\n",
       "      <td>N</td>\n",
       "    </tr>\n",
       "    <tr>\n",
       "      <th>4</th>\n",
       "      <td>10249/51</td>\n",
       "      <td>10249</td>\n",
       "      <td>51</td>\n",
       "      <td>42.4</td>\n",
       "      <td>40</td>\n",
       "      <td>0.0</td>\n",
       "      <td>N</td>\n",
       "    </tr>\n",
       "  </tbody>\n",
       "</table>\n",
       "</div>"
      ],
      "text/plain": [
       "         Id  OrderId  ProductId  UnitPrice  Quantity  Discount Discount_code\n",
       "0  10248/11    10248         11       14.0        12       0.0             N\n",
       "1  10248/42    10248         42        9.8        10       0.0             N\n",
       "2  10248/72    10248         72       34.8         5       0.0             N\n",
       "3  10249/14    10249         14       18.6         9       0.0             N\n",
       "4  10249/51    10249         51       42.4        40       0.0             N"
      ]
     },
     "execution_count": 19,
     "metadata": {},
     "output_type": "execute_result"
    }
   ],
   "source": [
    "# Create new feature in dataframe.\n",
    "OrderDetail_df['Discount_code'] = OrderDetail_df['Discount'].apply\\\n",
    "                                                 (lambda row: 'D' if row!=0 else 'N')\n",
    "OrderDetail_df.head()\n",
    "#OrderDetail_df.info()"
   ]
  },
  {
   "cell_type": "code",
   "execution_count": 20,
   "metadata": {},
   "outputs": [
    {
     "data": {
      "image/png": "[encoded data removed]",
      "text/plain": [
       "<Figure size 432x288 with 1 Axes>"
      ]
     },
     "metadata": {
      "needs_background": "light"
     },
     "output_type": "display_data"
    },
    {
     "name": "stdout",
     "output_type": "stream",
     "text": [
      "* There is not much different between quantity of orders distribution between with or without discount program. We cannot say any thing about this\n"
     ]
    }
   ],
   "source": [
    "# Make bee swarm plot\n",
    "_ = sns.swarmplot(x='Discount_code', y='Quantity', data=OrderDetail_df)\n",
    "plt.margins = 0.02\n",
    "\n",
    "# Label axes\n",
    "_ = plt.xlabel('DISCOUNT VS NO DISCOUNT')\n",
    "_ = plt.ylabel('QUANTITY OF ORDERS')\n",
    "\n",
    "# Show the plot\n",
    "plt.show()\n",
    "\n",
    "print('* There is not much different between quantity of orders distribution \\\n",
    "between with or without discount program. We cannot say any thing about this')"
   ]
  },
  {
   "cell_type": "markdown",
   "metadata": {},
   "source": [
    "### Let's check the ECDFs of two groups of data:\n",
    "##### Discount vs No_discount by Product Id."
   ]
  },
  {
   "cell_type": "code",
   "execution_count": 21,
   "metadata": {},
   "outputs": [],
   "source": [
    "def ecdf (data):\n",
    "    n = len(data)\n",
    "    x = np.sort(data)\n",
    "    y = np.arange(1,(n+1))/n\n",
    "    return x, y"
   ]
  },
  {
   "cell_type": "code",
   "execution_count": 22,
   "metadata": {},
   "outputs": [
    {
     "data": {
      "image/png": "[encoded data removed]",
      "text/plain": [
       "<Figure size 432x288 with 1 Axes>"
      ]
     },
     "metadata": {
      "needs_background": "light"
     },
     "output_type": "display_data"
    }
   ],
   "source": [
    "discount    = OrderDetail_df[OrderDetail_df['Discount']!=0].\\\n",
    "                      groupby('ProductId')['Quantity'].mean()\n",
    "no_discount = OrderDetail_df[OrderDetail_df['Discount']==0].\\\n",
    "                      groupby('ProductId')['Quantity'].mean()\n",
    "discount_a = np.array(discount)\n",
    "no_discount_a = np.array(no_discount)\n",
    "\n",
    "x_discount, y_discount = ecdf(discount_a)\n",
    "x_no_discount, y_no_discount = ecdf(no_discount_a)\n",
    "\n",
    "# Specify array of percentiles\n",
    "percentiles = np.array([2.5, 25, 50, 75, 97.5])\n",
    "ptiles_discount = np.percentile(discount_a, percentiles)\n",
    "ptiles_no_discount = np.percentile(no_discount_a, percentiles)\n",
    "# Plot all ECDFs on the same plot:\n",
    "_=plt.plot(x_discount, y_discount, marker = '.', linestyle = 'none')\n",
    "_=plt.plot(x_no_discount, y_no_discount, marker = '.', linestyle = 'none')\n",
    "_=plt.plot(ptiles_discount, percentiles/100, marker = 'D', \\\n",
    "                                color = 'red', linestyle = 'none')\n",
    "_=plt.plot(ptiles_no_discount, percentiles/100, marker = 'D', \\\n",
    "                                color = 'green', linestyle = 'none')\n",
    "# Annotate the plot:\n",
    "_=plt.legend(('Discount', 'No Discount'), loc = 'lower right')\n",
    "_=plt.xlabel('PRODUCTS OF ORDERS')\n",
    "_=plt.ylabel('ECDF')\n",
    "plt.show()"
   ]
  },
  {
   "cell_type": "markdown",
   "metadata": {},
   "source": [
    "##### At the 50 percentile:\n",
    "* we have the mean of product quantity of orders by discount is around 27 items per order\n",
    "* we have the mean of product quantity of orders by no discount is around 21 items per order. (we will have precisely number as below)\n",
    "\n",
    "*** (ECDF chart : y - value is the fraction of data points that have a value smaller than the corresponding x -value)"
   ]
  },
  {
   "cell_type": "code",
   "execution_count": 23,
   "metadata": {},
   "outputs": [
    {
     "name": "stdout",
     "output_type": "stream",
     "text": [
      "large_num_percentage =  70.13 %\n",
      "discount_mean =  27.11 items per order\n",
      "no_discount_mean =  21.72 items per order\n",
      "mean_diff =  5.39\n"
     ]
    },
    {
     "data": {
      "image/png": "[encoded data removed]",
      "text/plain": [
       "<Figure size 1296x360 with 1 Axes>"
      ]
     },
     "metadata": {
      "needs_background": "light"
     },
     "output_type": "display_data"
    }
   ],
   "source": [
    "# Percentage of quantity of orders with discount which are larger than\n",
    "#that with no discount.\n",
    "large_num_percentage = round(sum(discount.values > no_discount.values)\\\n",
    "                                            /len(discount.values)*100,2)\n",
    "mean_disc = np.mean(OrderDetail_df[OrderDetail_df['Discount']!=0]['Quantity'])  \n",
    "mean_no_disc = np.mean(OrderDetail_df\n",
    "                       [OrderDetail_df['Discount']==0]['Quantity'])\n",
    "mean_diff = round(mean_disc - mean_no_disc, 2)\n",
    "print('large_num_percentage = ', large_num_percentage, '%')\n",
    "print('discount_mean = ', round(mean_disc,2), 'items per order')\n",
    "print('no_discount_mean = ', round(mean_no_disc,2), 'items per order')\n",
    "print('mean_diff = ', mean_diff)\n",
    "\n",
    "plt.figure(figsize=(18,5))\n",
    "plt.bar(discount.index, discount.values, alpha=1,\n",
    "        label='Discount mean: 27.11', color='#FF5733')\n",
    "plt.bar(no_discount.index, no_discount.values, alpha=0.8,\n",
    "        label='No Discount mean: 21.72', color='#35B226')\n",
    "plt.title('70.13% QUANTITY OF ORDERS BY PRODUCT ID \\\n",
    "WITH DISCOUNT IS GREATER THAN THAT WITHOUT DISCOUNT', size=16)\n",
    "plt.xlabel('PRODUCT ID', size=14)\n",
    "plt.ylabel('AVERAGE QUANTITIES', size=14)\n",
    "plt.legend()\n",
    "plt.show()"
   ]
  },
  {
   "cell_type": "markdown",
   "metadata": {},
   "source": [
    "#### Conclusion:\n",
    "\n",
    "The ECDF graphic shows a pretty clear difference between the Discount and No_discount groups; The product quantity of orders with discount is larger than that without discount.\n",
    "The bar chart shows the same result with the ECDF graphic. The statistics gives us a clearly different number between quantity of orders of two groups: 70% of product quantity of orders by each product with discount is greater than that with no discount.\n",
    "\n",
    "#### Let's do a hypothesis test\n",
    "\n",
    "* Null Hypothesis:\n",
    "    The total product quantity of orders with discount less than or equal the total product quantity of orders without discount.\n",
    "* Alternative Hypothesis:\n",
    "    The total product quantity of orders with discount is larger than the total product quantity of orders without discount."
   ]
  },
  {
   "cell_type": "code",
   "execution_count": 24,
   "metadata": {},
   "outputs": [
    {
     "name": "stdout",
     "output_type": "stream",
     "text": [
      "27.10978520286396\n",
      "20.759042075141377\n"
     ]
    }
   ],
   "source": [
    "mean_disc = np.mean(OrderDetail_df[OrderDetail_df['Discount']!=0]['Quantity'])\n",
    "std_disc  =  np.std(OrderDetail_df[OrderDetail_df['Discount']!=0]['Quantity'])                  \n",
    "sample_discount = np.random.normal(mean_disc, std_disc,size = 10000)\n",
    "print(mean_disc)\n",
    "print(std_disc)"
   ]
  },
  {
   "cell_type": "code",
   "execution_count": 25,
   "metadata": {},
   "outputs": [
    {
     "data": {
      "image/png": "[encoded data removed]",
      "text/plain": [
       "<Figure size 432x288 with 1 Axes>"
      ]
     },
     "metadata": {
      "needs_background": "light"
     },
     "output_type": "display_data"
    }
   ],
   "source": [
    "OrderDetail_df_discount = np.array(OrderDetail_df\n",
    "                        [OrderDetail_df['Discount']!=0]['Quantity'])\n",
    "x1, y1 = ecdf(OrderDetail_df_discount)\n",
    "x_theor1, y_theor1 = ecdf(sample_discount)\n",
    "_=plt.hist(OrderDetail_df_discount)\n",
    "_=plt.plot(x_theor1, y_theor1)\n",
    "_=plt.plot(x1,y1, marker = '.', linestyle = 'none')\n",
    "_=plt.xlabel('QUANTITY OF ORDERS WITH DISCOUNT')\n",
    "_=plt.ylabel('CDF')\n",
    "plt.show()"
   ]
  },
  {
   "cell_type": "code",
   "execution_count": 26,
   "metadata": {},
   "outputs": [
    {
     "name": "stdout",
     "output_type": "stream",
     "text": [
      "21.715261958997722\n",
      "17.500845477669788\n"
     ]
    }
   ],
   "source": [
    "mean_no_disc = np.mean(OrderDetail_df\n",
    "                       [OrderDetail_df['Discount']==0]['Quantity'])\n",
    "std_no_disc  =  np.std(OrderDetail_df[OrderDetail_df['Discount']==0]['Quantity'])                  \n",
    "sample_no_discount = np.random.normal(mean_no_disc, std_no_disc,size = 10000)\n",
    "print(mean_no_disc)\n",
    "print(std_no_disc)"
   ]
  },
  {
   "cell_type": "code",
   "execution_count": 27,
   "metadata": {},
   "outputs": [
    {
     "data": {
      "image/png": "[encoded data removed]",
      "text/plain": [
       "<Figure size 432x288 with 1 Axes>"
      ]
     },
     "metadata": {
      "needs_background": "light"
     },
     "output_type": "display_data"
    }
   ],
   "source": [
    "OrderDetail_df_no_discount = np.array(OrderDetail_df\n",
    "                                      [OrderDetail_df['Discount']==0]['Quantity'])\n",
    "x2, y2 = ecdf(OrderDetail_df_no_discount)\n",
    "x_theor2, y_theor2 = ecdf(sample_no_discount)\n",
    "_=plt.hist(OrderDetail_df_no_discount)\n",
    "_=plt.plot(x_theor2, y_theor2)\n",
    "_=plt.plot(x2,y2, marker = '.', linestyle = 'none')\n",
    "_=plt.xlabel('QUANTITY OF ORDERS WITH DISCOUNT')\n",
    "_=plt.ylabel('CDF')\n",
    "plt.show()"
   ]
  },
  {
   "cell_type": "markdown",
   "metadata": {},
   "source": [
    "#### Conclusion: \n",
    "The dataset is not normally distributed therefore we need to use Monte Carlo simulation."
   ]
  },
  {
   "cell_type": "code",
   "execution_count": 28,
   "metadata": {},
   "outputs": [
    {
     "data": {
      "text/plain": [
       "(2155, 7)"
      ]
     },
     "execution_count": 28,
     "metadata": {},
     "output_type": "execute_result"
    }
   ],
   "source": [
    "OrderDetail_df.shape"
   ]
  },
  {
   "cell_type": "code",
   "execution_count": 29,
   "metadata": {},
   "outputs": [
    {
     "data": {
      "text/plain": [
       "((838, 7), (1317, 7))"
      ]
     },
     "execution_count": 29,
     "metadata": {},
     "output_type": "execute_result"
    }
   ],
   "source": [
    "OrderDetail_df[OrderDetail_df['Discount']!=0].shape, \\\n",
    "OrderDetail_df[OrderDetail_df['Discount']==0].shape"
   ]
  },
  {
   "cell_type": "code",
   "execution_count": 30,
   "metadata": {},
   "outputs": [
    {
     "data": {
      "text/plain": [
       "(838, 7)"
      ]
     },
     "execution_count": 30,
     "metadata": {},
     "output_type": "execute_result"
    }
   ],
   "source": [
    "discount_sample = OrderDetail_df.sample(replace = False, \n",
    "                        n = len(OrderDetail_df[OrderDetail_df['Discount']!=0]))\n",
    "discount_sample.shape"
   ]
  },
  {
   "cell_type": "code",
   "execution_count": 31,
   "metadata": {},
   "outputs": [
    {
     "data": {
      "text/plain": [
       "(1317, 7)"
      ]
     },
     "execution_count": 31,
     "metadata": {},
     "output_type": "execute_result"
    }
   ],
   "source": [
    "no_discount_sample = OrderDetail_df.drop(discount_sample.index, axis = 0)\n",
    "no_discount_sample.shape"
   ]
  },
  {
   "cell_type": "code",
   "execution_count": 32,
   "metadata": {},
   "outputs": [
    {
     "data": {
      "text/html": [
       "<div>\n",
       "<style scoped>\n",
       "    .dataframe tbody tr th:only-of-type {\n",
       "        vertical-align: middle;\n",
       "    }\n",
       "\n",
       "    .dataframe tbody tr th {\n",
       "        vertical-align: top;\n",
       "    }\n",
       "\n",
       "    .dataframe thead th {\n",
       "        text-align: right;\n",
       "    }\n",
       "</style>\n",
       "<table border=\"1\" class=\"dataframe\">\n",
       "  <thead>\n",
       "    <tr style=\"text-align: right;\">\n",
       "      <th></th>\n",
       "      <th>Id</th>\n",
       "      <th>OrderId</th>\n",
       "      <th>ProductId</th>\n",
       "      <th>UnitPrice</th>\n",
       "      <th>Quantity</th>\n",
       "      <th>Discount</th>\n",
       "      <th>Discount_code</th>\n",
       "    </tr>\n",
       "  </thead>\n",
       "  <tbody>\n",
       "    <tr>\n",
       "      <th>861</th>\n",
       "      <td>10570/56</td>\n",
       "      <td>10570</td>\n",
       "      <td>56</td>\n",
       "      <td>38.0</td>\n",
       "      <td>60</td>\n",
       "      <td>0.05</td>\n",
       "      <td>D</td>\n",
       "    </tr>\n",
       "    <tr>\n",
       "      <th>24</th>\n",
       "      <td>10256/53</td>\n",
       "      <td>10256</td>\n",
       "      <td>53</td>\n",
       "      <td>26.2</td>\n",
       "      <td>15</td>\n",
       "      <td>0.00</td>\n",
       "      <td>N</td>\n",
       "    </tr>\n",
       "    <tr>\n",
       "      <th>542</th>\n",
       "      <td>10452/28</td>\n",
       "      <td>10452</td>\n",
       "      <td>28</td>\n",
       "      <td>36.4</td>\n",
       "      <td>15</td>\n",
       "      <td>0.00</td>\n",
       "      <td>N</td>\n",
       "    </tr>\n",
       "    <tr>\n",
       "      <th>338</th>\n",
       "      <td>10375/14</td>\n",
       "      <td>10375</td>\n",
       "      <td>14</td>\n",
       "      <td>18.6</td>\n",
       "      <td>15</td>\n",
       "      <td>0.00</td>\n",
       "      <td>N</td>\n",
       "    </tr>\n",
       "    <tr>\n",
       "      <th>2059</th>\n",
       "      <td>11046/35</td>\n",
       "      <td>11046</td>\n",
       "      <td>35</td>\n",
       "      <td>18.0</td>\n",
       "      <td>18</td>\n",
       "      <td>0.05</td>\n",
       "      <td>D</td>\n",
       "    </tr>\n",
       "  </tbody>\n",
       "</table>\n",
       "</div>"
      ],
      "text/plain": [
       "            Id  OrderId  ProductId  UnitPrice  Quantity  Discount  \\\n",
       "861   10570/56    10570         56       38.0        60      0.05   \n",
       "24    10256/53    10256         53       26.2        15      0.00   \n",
       "542   10452/28    10452         28       36.4        15      0.00   \n",
       "338   10375/14    10375         14       18.6        15      0.00   \n",
       "2059  11046/35    11046         35       18.0        18      0.05   \n",
       "\n",
       "     Discount_code  \n",
       "861              D  \n",
       "24               N  \n",
       "542              N  \n",
       "338              N  \n",
       "2059             D  "
      ]
     },
     "execution_count": 32,
     "metadata": {},
     "output_type": "execute_result"
    }
   ],
   "source": [
    "discount_sample.head()"
   ]
  },
  {
   "cell_type": "markdown",
   "metadata": {},
   "source": [
    "### Cohen's d\n",
    "\n",
    "Cohen's d is an effect size used to indicate the standardised difference between two means. It can be used, for example, to accompany reporting of t-test and ANOVA results. It is also widely used in meta-analysis. Cohen's d is an appropriate effect size for the comparison between two means. d<=0.2 which is considered small effect size, d<=0.5 which is considered medium effect size, d<=0.8 which is considered large effect size."
   ]
  },
  {
   "cell_type": "code",
   "execution_count": 33,
   "metadata": {},
   "outputs": [],
   "source": [
    "# Computing Cohen's d function\n",
    "def Cohen_d(experimental, control):\n",
    "\n",
    "    diff = experimental.mean() - control.mean()\n",
    "    n1, n2 = len(experimental), len(control)\n",
    "    var1 = experimental.var()\n",
    "    var2 = control.var()\n",
    "    d = diff / np.sqrt((n1 * var1 + n2 * var2) / (n1 + n2))\n",
    "    \n",
    "    return abs(d)\n"
   ]
  },
  {
   "cell_type": "code",
   "execution_count": 34,
   "metadata": {},
   "outputs": [
    {
     "name": "stdout",
     "output_type": "stream",
     "text": [
      "0.0\n"
     ]
    },
    {
     "data": {
      "text/plain": [
       "Text(0.5, 1.0, 'p-value: 0.0')"
      ]
     },
     "execution_count": 34,
     "metadata": {},
     "output_type": "execute_result"
    },
    {
     "data": {
      "image/png": "[encoded data removed]",
      "text/plain": [
       "<Figure size 432x288 with 1 Axes>"
      ]
     },
     "metadata": {
      "needs_background": "light"
     },
     "output_type": "display_data"
    }
   ],
   "source": [
    "#%%time\n",
    "mean_diff = OrderDetail_df[OrderDetail_df['Discount']!=0]['Quantity'].mean() -\\\n",
    "               OrderDetail_df[OrderDetail_df['Discount']==0]['Quantity'].mean()\n",
    "sample_diffs = []\n",
    "counter = 0\n",
    "for x in range(10000):\n",
    "    discount_sample = OrderDetail_df.sample(replace = False,\n",
    "                      n = len(OrderDetail_df[OrderDetail_df['Discount']!=0]))\n",
    "    no_discount_sample = OrderDetail_df.drop(discount_sample.index, axis = 0)\n",
    "    sample_diff = discount_sample['Quantity'].mean() - \\\n",
    "                                        no_discount_sample['Quantity'].mean()\n",
    "    sample_diffs.append(sample_diff)\n",
    "    if sample_diff > mean_diff:\n",
    "        counter += 1\n",
    "plt.hist(sample_diffs)\n",
    "plt.axvline(mean_diff, color = 'b')\n",
    "p = round(counter / 10000, 2)\n",
    "print(p)\n",
    "plt.title(f'p-value: {p}')\n"
   ]
  },
  {
   "cell_type": "code",
   "execution_count": 35,
   "metadata": {},
   "outputs": [
    {
     "name": "stdout",
     "output_type": "stream",
     "text": [
      "Cohen_d =  0.02583410623707138\n"
     ]
    }
   ],
   "source": [
    "d = Cohen_d(discount_sample['Quantity'], no_discount_sample['Quantity'])\n",
    "print('Cohen_d = ', d)"
   ]
  },
  {
   "cell_type": "markdown",
   "metadata": {},
   "source": [
    "#### CONCLUSION:\n",
    "\n",
    "* The low p-value suggests that the null hypothesis: that the total product quantity of orders with discount less than or equal the total product quantity of orders without discount is false. We reject the null hypothesis due to the p value < 0.05. Which means the product quantity of orders with discount is greater than that with no discount. The Cohen d = 0.037 which is a very small effect size suggests that the difference is not significant.\n",
    "\n",
    "* The promotion program effect the product quantity of orders\n",
    "\n",
    "* The following step in the research would be to answer the question about at what discount level we see statisticaly significant difference in orders quantities\n",
    "\n",
    "* We will follow the same process as previous experiment, but this time we'll break our experimental group into discount levels"
   ]
  },
  {
   "cell_type": "markdown",
   "metadata": {},
   "source": [
    "### DIFFERENT EFFECT ON PRODUCT QUANTITY OF ORDERS BY DISCOUNT LEVELS"
   ]
  },
  {
   "cell_type": "code",
   "execution_count": 36,
   "metadata": {},
   "outputs": [],
   "source": [
    "# Each group is a DataFrame containing orders with certain discount level\n",
    "discounts = OrderDetail_df['Discount'].unique()\n",
    "groups = {}\n",
    "for i in discounts:\n",
    "    groups[i] = OrderDetail_df[OrderDetail_df['Discount']==i]\n",
    "    groups\n"
   ]
  },
  {
   "cell_type": "code",
   "execution_count": 37,
   "metadata": {},
   "outputs": [
    {
     "data": {
      "text/html": [
       "<div>\n",
       "<style scoped>\n",
       "    .dataframe tbody tr th:only-of-type {\n",
       "        vertical-align: middle;\n",
       "    }\n",
       "\n",
       "    .dataframe tbody tr th {\n",
       "        vertical-align: top;\n",
       "    }\n",
       "\n",
       "    .dataframe thead th {\n",
       "        text-align: right;\n",
       "    }\n",
       "</style>\n",
       "<table border=\"1\" class=\"dataframe\">\n",
       "  <thead>\n",
       "    <tr style=\"text-align: right;\">\n",
       "      <th></th>\n",
       "      <th>0</th>\n",
       "      <th>1</th>\n",
       "      <th>2</th>\n",
       "      <th>3</th>\n",
       "      <th>4</th>\n",
       "      <th>5</th>\n",
       "      <th>6</th>\n",
       "      <th>7</th>\n",
       "      <th>8</th>\n",
       "      <th>9</th>\n",
       "      <th>10</th>\n",
       "    </tr>\n",
       "  </thead>\n",
       "  <tbody>\n",
       "    <tr>\n",
       "      <th>Discount %</th>\n",
       "      <td>0.00</td>\n",
       "      <td>15.00</td>\n",
       "      <td>5.00</td>\n",
       "      <td>20.00</td>\n",
       "      <td>25.00</td>\n",
       "      <td>10.00</td>\n",
       "      <td>2.0</td>\n",
       "      <td>3.00</td>\n",
       "      <td>4.0</td>\n",
       "      <td>6.0</td>\n",
       "      <td>1.0</td>\n",
       "    </tr>\n",
       "    <tr>\n",
       "      <th>Orders</th>\n",
       "      <td>1317.00</td>\n",
       "      <td>157.00</td>\n",
       "      <td>185.00</td>\n",
       "      <td>161.00</td>\n",
       "      <td>154.00</td>\n",
       "      <td>173.00</td>\n",
       "      <td>2.0</td>\n",
       "      <td>3.00</td>\n",
       "      <td>1.0</td>\n",
       "      <td>1.0</td>\n",
       "      <td>1.0</td>\n",
       "    </tr>\n",
       "    <tr>\n",
       "      <th>Avg. Order Quantity</th>\n",
       "      <td>21.72</td>\n",
       "      <td>28.38</td>\n",
       "      <td>28.01</td>\n",
       "      <td>27.02</td>\n",
       "      <td>28.24</td>\n",
       "      <td>25.24</td>\n",
       "      <td>2.0</td>\n",
       "      <td>1.67</td>\n",
       "      <td>1.0</td>\n",
       "      <td>2.0</td>\n",
       "      <td>2.0</td>\n",
       "    </tr>\n",
       "  </tbody>\n",
       "</table>\n",
       "</div>"
      ],
      "text/plain": [
       "                          0       1       2       3       4       5    6   \\\n",
       "Discount %              0.00   15.00    5.00   20.00   25.00   10.00  2.0   \n",
       "Orders               1317.00  157.00  185.00  161.00  154.00  173.00  2.0   \n",
       "Avg. Order Quantity    21.72   28.38   28.01   27.02   28.24   25.24  2.0   \n",
       "\n",
       "                       7    8    9    10  \n",
       "Discount %           3.00  4.0  6.0  1.0  \n",
       "Orders               3.00  1.0  1.0  1.0  \n",
       "Avg. Order Quantity  1.67  1.0  2.0  2.0  "
      ]
     },
     "execution_count": 37,
     "metadata": {},
     "output_type": "execute_result"
    }
   ],
   "source": [
    "# Create new DataFrame with Discounts and Order quantities\n",
    "discounts_df = pd.DataFrame(columns=['Discount %','Orders','Avg. Order Quantity'])\n",
    "for i in groups.keys():\n",
    "    discounts_df = discounts_df.append({'Discount %':i*100,'Orders':len(groups[i]),\\\n",
    "    'Avg. Order Quantity':round(groups[i]['Quantity'].mean(),2)}, ignore_index=True)\n",
    "\n",
    "discounts_df.T\n"
   ]
  },
  {
   "cell_type": "markdown",
   "metadata": {},
   "source": [
    "#### CONCLUSION:\n",
    "\n",
    "At discount levels: 1%, 2%, 3%, 4% and 6% product quantity of orders was really small. Making conclusion on those discount levels will not reflect truly on sales. However, we should do a research to make sure that running those discount level still a need for new product launching or marketing strategy, other while we should stop. Lets drop these discount levels from our experiment."
   ]
  },
  {
   "cell_type": "code",
   "execution_count": 38,
   "metadata": {},
   "outputs": [
    {
     "data": {
      "image/png": "[encoded data removed]",
      "text/plain": [
       "<Figure size 432x288 with 1 Axes>"
      ]
     },
     "metadata": {
      "needs_background": "light"
     },
     "output_type": "display_data"
    }
   ],
   "source": [
    "# Make bee swarm plot\n",
    "_ = sns.swarmplot(x='Discount', y='Quantity', data=OrderDetail_df)\n",
    "plt.margins = 0.02\n",
    "\n",
    "# Label axes\n",
    "_ = plt.xlabel('DISCOUNT LEVELS')\n",
    "_ = plt.ylabel('PRODUCT QUANTITY OF ORDERS')\n",
    "\n",
    "# Show the plot\n",
    "plt.show()"
   ]
  },
  {
   "cell_type": "code",
   "execution_count": 39,
   "metadata": {},
   "outputs": [
    {
     "data": {
      "image/png": "[encoded data removed]",
      "text/plain": [
       "<Figure size 1584x792 with 1 Axes>"
      ]
     },
     "metadata": {
      "needs_background": "light"
     },
     "output_type": "display_data"
    }
   ],
   "source": [
    "# Create 5 group of discount levels: 5%, 10%, 15%, 20%, 25%\n",
    "level_table = ['5%', '10%', '15%', '20%', '25%']\n",
    "discount_levels = [0.05, 0.1, 0.15, 0.2, 0.25]\n",
    "percentiles = np.array([2.5, 25, 50, 75, 97.5])\n",
    "plt.figure(figsize=(22,11))\n",
    "for i in range(len(discount_levels)):\n",
    "    df = OrderDetail_df[OrderDetail_df['Discount']==discount_levels[i]].\\\n",
    "                        groupby('ProductId')['Quantity'].mean()\n",
    "    discount = np.array(df)\n",
    "    x_discount,  y_discount = ecdf(discount)\n",
    "\n",
    "    # Specify array of percentiles\n",
    "    ptiles_discount = np.percentile(discount, percentiles)\n",
    "\n",
    "    # Plot all ECDFs on the same plot:\n",
    "    _=plt.plot(x_discount, y_discount, marker='.', linestyle='none',\\\n",
    "               label='discount: '+level_table[i])\n",
    "    _=plt.plot(ptiles_discount, percentiles/100, marker='D', linestyle='none')\n",
    "    \n",
    "# Annotate the plot\n",
    "_=plt.legend(loc='lower right')\n",
    "_=plt.xlabel('PRODUCTS QUANTITY OF ORDERS', size = 16)\n",
    "_=plt.ylabel('ECDF', size = 16)\n",
    "plt.show()"
   ]
  },
  {
   "cell_type": "markdown",
   "metadata": {},
   "source": [
    "There is difference between product of orders at different discount level but not very clearly. We can't tell any thing. Let's do the Hypothesis test.\n",
    "\n",
    "### Hypothesis test\n",
    "\n",
    "\n",
    "Null Hypothesis: there is no difference of product quantity of orders between each discount levels and product quantity of orders with no discount\n",
    "\n",
    "Alternative Hypothesis: there is difference of product quantity of orders between each discount levels and product quantity of orders with no discount\n",
    "\n",
    "\n",
    "### Welch's T-test\n",
    "\n",
    "In statistics, Welch's t-test, or unequal variances t-test, is a two-sample location test which is used to test the hypothesis that two populations have equal means."
   ]
  },
  {
   "cell_type": "code",
   "execution_count": 40,
   "metadata": {},
   "outputs": [],
   "source": [
    "# function to perform t-test on two samples\n",
    "# and compare p-value with provided significant level to reject or not\n",
    "def perform_ttest(sample1, sample2, significant_level = 0.05):\n",
    "    # perform t-test to calculate p-value\n",
    "    st, p = stats.ttest_ind(sample1, sample2)\n",
    "    \n",
    "    # calculate Cohen_d\n",
    "    d = Cohen_d(sample1, sample2)\n",
    "    \n",
    "    # compare p-value to reject\n",
    "    reject = True\n",
    "    if p >= significant_level:\n",
    "        reject = False\n",
    "        \n",
    "    # return result\n",
    "    return reject, p, d\n",
    "\n",
    "\n",
    "# using for calculate cohen_d:\n",
    "def discount_levels_ttest(discount_level_1, discount_level_2 = 0.0\n",
    "                                     , significant_level = 0.05):\n",
    "    # generate sample for discount level 1\n",
    "    discount_level_1_data = OrderDetail_df[OrderDetail_df['Discount']==discount_level_1]\n",
    "\n",
    "    # sample for discount level 2\n",
    "    discount_level_2_data = OrderDetail_df[OrderDetail_df['Discount']==discount_level_2]\n",
    "    \n",
    "    # perform t-test and calculate p-value, Cohen_d\n",
    "    result = perform_ttest(discount_level_1_data['Quantity'], \n",
    "                           discount_level_2_data['Quantity'], significant_level)\n",
    "    \n",
    "    # return result - (reject, p, d)\n",
    "    return result"
   ]
  },
  {
   "cell_type": "code",
   "execution_count": 41,
   "metadata": {},
   "outputs": [],
   "source": [
    "# function to sample data and test the difference of mean to calculate p-value for each pair of discounts\n",
    "def sample_and_test(discount_level_1, discount_level_2 = 0.0, reps = 10000):\n",
    "    # calculate the difference of means of each level\n",
    "    mean_diff = OrderDetail_df[OrderDetail_df['Discount']==discount_level_1]\\\n",
    "                ['Quantity'].mean() - OrderDetail_df[OrderDetail_df\n",
    "                ['Discount']==discount_level_2]['Quantity'].mean()\n",
    "    \n",
    "    # list to store all difference means of all samples\n",
    "    sample_diffs = []\n",
    "    \n",
    "    # count when sample mean difference > original mean difference\n",
    "    counter = 0\n",
    "    \n",
    "    # loop reps times to generate samples\n",
    "    for x in range(reps):\n",
    "        # generate sample for discount level 1\n",
    "        size = len(OrderDetail_df[OrderDetail_df['Discount']==discount_level_1])\n",
    "        discount_level_1_sample = OrderDetail_df.sample(replace = False, n = size)\n",
    "        \n",
    "        # generate supplement sample of sample for discount level 1\n",
    "        supplement_sample = OrderDetail_df.drop(discount_level_1_sample.index, axis = 0)\n",
    "        \n",
    "        # calculate the mean difference of the two samples, and add it to the list\n",
    "        sample_diff = discount_level_1_sample['Quantity'].mean() - \\\n",
    "                            supplement_sample['Quantity'].mean()\n",
    "        sample_diffs.append(sample_diff)\n",
    "        \n",
    "        # compare same mean difference with original mean difference\n",
    "        if sample_diff > mean_diff:\n",
    "            counter += 1\n",
    "    \n",
    "    # calculate p-value\n",
    "    p = round(counter / reps, 2)\n",
    "    \n",
    "    # return sample mean difference list and p-value\n",
    "    return sample_diffs, p"
   ]
  },
  {
   "cell_type": "code",
   "execution_count": 42,
   "metadata": {},
   "outputs": [
    {
     "name": "stdout",
     "output_type": "stream",
     "text": [
      "p-value: 0.0\n",
      "p-value: 0.01\n",
      "p-value: 0.0\n",
      "p-value: 0.0\n",
      "p-value: 0.0\n"
     ]
    },
    {
     "data": {
      "image/png": "[encoded data removed]",
      "text/plain": [
       "<Figure size 432x288 with 1 Axes>"
      ]
     },
     "metadata": {
      "needs_background": "light"
     },
     "output_type": "display_data"
    }
   ],
   "source": [
    "# sample and test for some level of discounts versus no discount\n",
    "discount_levels = np.array([0.05, 0.1, 0.15, 0.2, 0.25])\n",
    "for level in discount_levels:\n",
    "    sample_diffs, p = sample_and_test(level)\n",
    "    print(f'p-value: {p}')\n",
    "    plt.hist(sample_diffs)\n",
    "    plt.axvline(mean_diff, color = 'b')"
   ]
  },
  {
   "cell_type": "markdown",
   "metadata": {},
   "source": [
    "There is small difference between product quantity of orders with each discount levels and product quantity of orders with no discount."
   ]
  },
  {
   "cell_type": "code",
   "execution_count": 43,
   "metadata": {},
   "outputs": [
    {
     "data": {
      "text/html": [
       "<div>\n",
       "<style scoped>\n",
       "    .dataframe tbody tr th:only-of-type {\n",
       "        vertical-align: middle;\n",
       "    }\n",
       "\n",
       "    .dataframe tbody tr th {\n",
       "        vertical-align: top;\n",
       "    }\n",
       "\n",
       "    .dataframe thead th {\n",
       "        text-align: right;\n",
       "    }\n",
       "</style>\n",
       "<table border=\"1\" class=\"dataframe\">\n",
       "  <thead>\n",
       "    <tr style=\"text-align: right;\">\n",
       "      <th></th>\n",
       "      <th>Discount %</th>\n",
       "      <th>p value</th>\n",
       "      <th>Null Hypothesis</th>\n",
       "      <th>Cohens d</th>\n",
       "    </tr>\n",
       "  </thead>\n",
       "  <tbody>\n",
       "    <tr>\n",
       "      <th>0</th>\n",
       "      <td>5.0%</td>\n",
       "      <td>0.00</td>\n",
       "      <td>Reject</td>\n",
       "      <td>0.35</td>\n",
       "    </tr>\n",
       "    <tr>\n",
       "      <th>1</th>\n",
       "      <td>10.0%</td>\n",
       "      <td>0.02</td>\n",
       "      <td>Reject</td>\n",
       "      <td>0.20</td>\n",
       "    </tr>\n",
       "    <tr>\n",
       "      <th>2</th>\n",
       "      <td>15.0%</td>\n",
       "      <td>0.00</td>\n",
       "      <td>Reject</td>\n",
       "      <td>0.37</td>\n",
       "    </tr>\n",
       "    <tr>\n",
       "      <th>3</th>\n",
       "      <td>20.0%</td>\n",
       "      <td>0.00</td>\n",
       "      <td>Reject</td>\n",
       "      <td>0.30</td>\n",
       "    </tr>\n",
       "    <tr>\n",
       "      <th>4</th>\n",
       "      <td>25.0%</td>\n",
       "      <td>0.00</td>\n",
       "      <td>Reject</td>\n",
       "      <td>0.37</td>\n",
       "    </tr>\n",
       "  </tbody>\n",
       "</table>\n",
       "</div>"
      ],
      "text/plain": [
       "  Discount %  p value Null Hypothesis  Cohens d\n",
       "0       5.0%     0.00          Reject      0.35\n",
       "1      10.0%     0.02          Reject      0.20\n",
       "2      15.0%     0.00          Reject      0.37\n",
       "3      20.0%     0.00          Reject      0.30\n",
       "4      25.0%     0.00          Reject      0.37"
      ]
     },
     "execution_count": 43,
     "metadata": {},
     "output_type": "execute_result"
    }
   ],
   "source": [
    "discounts_sig_df = pd.DataFrame(columns=['Discount %', 'p value',\n",
    "                    'Null Hypothesis', 'Cohens d'], index=None)\n",
    "for level in discount_levels:\n",
    "    result = discount_levels_ttest(level, significant_level=0.05)\n",
    "    discounts_sig_df = discounts_sig_df.append({'Discount %': \n",
    "                    str(level*100)+'%','p value': round(result[1],2),\n",
    "                    'Null Hypothesis': 'Reject' if result[0] else 'Fail to reject',\n",
    "                    'Cohens d': round(result[2],2) if result[0] else np.nan}, \n",
    "                    ignore_index=True)\n",
    "\n",
    "discounts_sig_df"
   ]
  },
  {
   "cell_type": "markdown",
   "metadata": {},
   "source": [
    "### CONCLUSION:\n",
    "\n",
    "* All p-values < 0.05 we reject the null hypothesis. Cohens 0.2 <= d <= 0.5 effect size is small.\n",
    "* There is difference between product quantity of orders with each discount levels and product quantity of orders with no discount, however the difference is small.\n",
    "\n",
    "*** Cohen classified effect sizes as small (d  =  0.2), medium (d  =  0.5), and large (d ≥ 0.8)"
   ]
  },
  {
   "cell_type": "markdown",
   "metadata": {},
   "source": [
    "### Statistically significant difference between discount levels\n",
    "\n",
    "* Null Hypothesis:\n",
    "\n",
    "   There is no difference in order quantity between discount levels\n",
    "   \n",
    "\n",
    "* Alternative Hypothesis:\n",
    "\n",
    "   There is a difference in order quantity between discount levels\n"
   ]
  },
  {
   "cell_type": "code",
   "execution_count": 44,
   "metadata": {},
   "outputs": [
    {
     "data": {
      "text/html": [
       "<div>\n",
       "<style scoped>\n",
       "    .dataframe tbody tr th:only-of-type {\n",
       "        vertical-align: middle;\n",
       "    }\n",
       "\n",
       "    .dataframe tbody tr th {\n",
       "        vertical-align: top;\n",
       "    }\n",
       "\n",
       "    .dataframe thead th {\n",
       "        text-align: right;\n",
       "    }\n",
       "</style>\n",
       "<table border=\"1\" class=\"dataframe\">\n",
       "  <thead>\n",
       "    <tr style=\"text-align: right;\">\n",
       "      <th></th>\n",
       "      <th>Discount %</th>\n",
       "      <th>p value</th>\n",
       "      <th>Null Hypothesis</th>\n",
       "      <th>Cohens d</th>\n",
       "    </tr>\n",
       "  </thead>\n",
       "  <tbody>\n",
       "    <tr>\n",
       "      <th>0</th>\n",
       "      <td>5.0% vs 10.0%</td>\n",
       "      <td>0.23</td>\n",
       "      <td>Fail to reject</td>\n",
       "      <td>NaN</td>\n",
       "    </tr>\n",
       "    <tr>\n",
       "      <th>1</th>\n",
       "      <td>5.0% vs 15.0%</td>\n",
       "      <td>0.87</td>\n",
       "      <td>Fail to reject</td>\n",
       "      <td>NaN</td>\n",
       "    </tr>\n",
       "    <tr>\n",
       "      <th>2</th>\n",
       "      <td>5.0% vs 20.0%</td>\n",
       "      <td>0.66</td>\n",
       "      <td>Fail to reject</td>\n",
       "      <td>NaN</td>\n",
       "    </tr>\n",
       "    <tr>\n",
       "      <th>3</th>\n",
       "      <td>5.0% vs 25.0%</td>\n",
       "      <td>0.92</td>\n",
       "      <td>Fail to reject</td>\n",
       "      <td>NaN</td>\n",
       "    </tr>\n",
       "    <tr>\n",
       "      <th>4</th>\n",
       "      <td>10.0% vs 15.0%</td>\n",
       "      <td>0.18</td>\n",
       "      <td>Fail to reject</td>\n",
       "      <td>NaN</td>\n",
       "    </tr>\n",
       "    <tr>\n",
       "      <th>5</th>\n",
       "      <td>10.0% vs 20.0%</td>\n",
       "      <td>0.42</td>\n",
       "      <td>Fail to reject</td>\n",
       "      <td>NaN</td>\n",
       "    </tr>\n",
       "    <tr>\n",
       "      <th>6</th>\n",
       "      <td>10.0% vs 25.0%</td>\n",
       "      <td>0.19</td>\n",
       "      <td>Fail to reject</td>\n",
       "      <td>NaN</td>\n",
       "    </tr>\n",
       "    <tr>\n",
       "      <th>7</th>\n",
       "      <td>15.0% vs 20.0%</td>\n",
       "      <td>0.54</td>\n",
       "      <td>Fail to reject</td>\n",
       "      <td>NaN</td>\n",
       "    </tr>\n",
       "    <tr>\n",
       "      <th>8</th>\n",
       "      <td>15.0% vs 25.0%</td>\n",
       "      <td>0.95</td>\n",
       "      <td>Fail to reject</td>\n",
       "      <td>NaN</td>\n",
       "    </tr>\n",
       "    <tr>\n",
       "      <th>9</th>\n",
       "      <td>20.0% vs 25.0%</td>\n",
       "      <td>0.58</td>\n",
       "      <td>Fail to reject</td>\n",
       "      <td>NaN</td>\n",
       "    </tr>\n",
       "  </tbody>\n",
       "</table>\n",
       "</div>"
      ],
      "text/plain": [
       "       Discount %  p value Null Hypothesis  Cohens d\n",
       "0   5.0% vs 10.0%     0.23  Fail to reject       NaN\n",
       "1   5.0% vs 15.0%     0.87  Fail to reject       NaN\n",
       "2   5.0% vs 20.0%     0.66  Fail to reject       NaN\n",
       "3   5.0% vs 25.0%     0.92  Fail to reject       NaN\n",
       "4  10.0% vs 15.0%     0.18  Fail to reject       NaN\n",
       "5  10.0% vs 20.0%     0.42  Fail to reject       NaN\n",
       "6  10.0% vs 25.0%     0.19  Fail to reject       NaN\n",
       "7  15.0% vs 20.0%     0.54  Fail to reject       NaN\n",
       "8  15.0% vs 25.0%     0.95  Fail to reject       NaN\n",
       "9  20.0% vs 25.0%     0.58  Fail to reject       NaN"
      ]
     },
     "execution_count": 44,
     "metadata": {},
     "output_type": "execute_result"
    }
   ],
   "source": [
    "discount_levels = np.array([0.05, 0.1, 0.15, 0.2, 0.25])\n",
    "comb = itertools.combinations(discount_levels, 2)\n",
    "discount_levels_df = pd.DataFrame(columns=['Discount %', 'p value',\n",
    "                         'Null Hypothesis','Cohens d'], index=None)\n",
    "\n",
    "for i in comb:\n",
    "    result = discount_levels_ttest(i[0], i[1], 0.05)  \n",
    "    discount_levels_df = discount_levels_df.append(\n",
    "        {'Discount %': str(i[0]*100)+'% vs '+str(i[1]*100)+'%',\n",
    "         'p value': round(result[1],2),\n",
    "         'Null Hypothesis': 'Reject' if result[0] else 'Fail to reject',\n",
    "         'Cohens d': round(result[2],2) if result[0] else np.nan}, ignore_index=True)    \n",
    "\n",
    "discount_levels_df.sort_values('Cohens d', ascending=False)\n"
   ]
  },
  {
   "cell_type": "markdown",
   "metadata": {},
   "source": [
    "### CONCLUSION:\n",
    "\n",
    "* All p-values >0.05 we fail to reject the null hypothesis. \n",
    "* Discounts of 5%, 15%, 20% and 25% have approximately the same effect on quantity of orders."
   ]
  },
  {
   "cell_type": "markdown",
   "metadata": {},
   "source": [
    "### Next, we want to observe and check if the products of orders each month is difference with the others."
   ]
  },
  {
   "cell_type": "code",
   "execution_count": 45,
   "metadata": {},
   "outputs": [],
   "source": [
    "sale_month = pd.read_sql_query('''\n",
    "                               SELECT O.OrderDate, OD.Quantity, OD.Discount, \n",
    "                               CategoryId FROM [Order] AS O\n",
    "                               JOIN OrderDetail AS OD\n",
    "                               ON O.Id = OD.OrderId\n",
    "                               JOIN Product\n",
    "                               ON Product.Id = OD.ProductId\n",
    "                            ''',conn)\n"
   ]
  },
  {
   "cell_type": "code",
   "execution_count": 46,
   "metadata": {},
   "outputs": [
    {
     "data": {
      "text/html": [
       "<div>\n",
       "<style scoped>\n",
       "    .dataframe tbody tr th:only-of-type {\n",
       "        vertical-align: middle;\n",
       "    }\n",
       "\n",
       "    .dataframe tbody tr th {\n",
       "        vertical-align: top;\n",
       "    }\n",
       "\n",
       "    .dataframe thead th {\n",
       "        text-align: right;\n",
       "    }\n",
       "</style>\n",
       "<table border=\"1\" class=\"dataframe\">\n",
       "  <thead>\n",
       "    <tr style=\"text-align: right;\">\n",
       "      <th></th>\n",
       "      <th>0</th>\n",
       "      <th>1</th>\n",
       "      <th>2</th>\n",
       "      <th>3</th>\n",
       "      <th>4</th>\n",
       "      <th>5</th>\n",
       "      <th>6</th>\n",
       "      <th>7</th>\n",
       "      <th>8</th>\n",
       "      <th>9</th>\n",
       "      <th>10</th>\n",
       "      <th>11</th>\n",
       "    </tr>\n",
       "  </thead>\n",
       "  <tbody>\n",
       "    <tr>\n",
       "      <th>Month</th>\n",
       "      <td>1.00</td>\n",
       "      <td>2.0</td>\n",
       "      <td>3.00</td>\n",
       "      <td>4.00</td>\n",
       "      <td>5.0</td>\n",
       "      <td>6.00</td>\n",
       "      <td>7.00</td>\n",
       "      <td>8.0</td>\n",
       "      <td>9.00</td>\n",
       "      <td>10.00</td>\n",
       "      <td>11.00</td>\n",
       "      <td>12.00</td>\n",
       "    </tr>\n",
       "    <tr>\n",
       "      <th>Quantity</th>\n",
       "      <td>24.76</td>\n",
       "      <td>26.1</td>\n",
       "      <td>22.88</td>\n",
       "      <td>25.26</td>\n",
       "      <td>19.9</td>\n",
       "      <td>21.51</td>\n",
       "      <td>25.85</td>\n",
       "      <td>20.8</td>\n",
       "      <td>22.81</td>\n",
       "      <td>24.68</td>\n",
       "      <td>23.17</td>\n",
       "      <td>25.04</td>\n",
       "    </tr>\n",
       "  </tbody>\n",
       "</table>\n",
       "</div>"
      ],
      "text/plain": [
       "             0     1      2      3     4      5      6     7      8      9   \\\n",
       "Month      1.00   2.0   3.00   4.00   5.0   6.00   7.00   8.0   9.00  10.00   \n",
       "Quantity  24.76  26.1  22.88  25.26  19.9  21.51  25.85  20.8  22.81  24.68   \n",
       "\n",
       "             10     11  \n",
       "Month     11.00  12.00  \n",
       "Quantity  23.17  25.04  "
      ]
     },
     "execution_count": 46,
     "metadata": {},
     "output_type": "execute_result"
    }
   ],
   "source": [
    "#sale_month.head(3)\n",
    "sale_month.OrderDate = pd.to_datetime(sale_month.OrderDate)\n",
    "sale_month['Month'] = sale_month.OrderDate.dt.month\n",
    "sale_by_month_df = round(sale_month.groupby('Month').mean(),2)\n",
    "sale_by_month_df.drop(columns=['Discount', 'CategoryId'], inplace=True)\n",
    "sale_by_month_df.reset_index(inplace=True)\n",
    "sale_by_month_df.T"
   ]
  },
  {
   "cell_type": "code",
   "execution_count": 47,
   "metadata": {},
   "outputs": [
    {
     "data": {
      "image/png": "[encoded data removed]",
      "text/plain": [
       "<Figure size 360x360 with 1 Axes>"
      ]
     },
     "metadata": {
      "needs_background": "light"
     },
     "output_type": "display_data"
    }
   ],
   "source": [
    "chart = sns.catplot(data=sale_by_month_df, x='Month', y='Quantity', kind='bar')\n",
    "chart.set_ylabels(\"Sale by Month\");"
   ]
  },
  {
   "cell_type": "markdown",
   "metadata": {},
   "source": [
    "### Hypothesis statement\n",
    "\n",
    "Null Hypothesis: There is no difference in the product quantity of orders between each month.\n",
    "\n",
    "Alternative Hypothesis: There is difference in the product quantity of orders between each month."
   ]
  },
  {
   "cell_type": "markdown",
   "metadata": {},
   "source": [
    "### ANOVA TEST\n",
    "\n"
   ]
  },
  {
   "cell_type": "code",
   "execution_count": 48,
   "metadata": {},
   "outputs": [
    {
     "name": "stdout",
     "output_type": "stream",
     "text": [
      "                 sum_sq      df         F    PR(>F)\n",
      "C(Month)    7395.980026    11.0  1.866405  0.039229\n",
      "Residual  772003.656168  2143.0       NaN       NaN\n"
     ]
    }
   ],
   "source": [
    "formula = 'Quantity ~ C(Month)'\n",
    "lm = ols(formula, sale_month).fit()\n",
    "table = sm.stats.anova_lm(lm, typ=2)\n",
    "print(table)"
   ]
  },
  {
   "cell_type": "markdown",
   "metadata": {},
   "source": [
    "### CONCLUSION:\n",
    "\n",
    "* The p-value = 0.039 < 0.05, we reject null hypothesis. There is statistically significant difference in order quantity between months. \n",
    "\n",
    "* Normally, People tend to spend more on holidays, summer time, spring time and even school time, etc. check sales on those special events that suggests that we need to check the promotion program, lauching new products, learning on customer demand, habit or new marketing strategy. We need to change for better sales performance."
   ]
  },
  {
   "cell_type": "markdown",
   "metadata": {},
   "source": [
    "### DIFFERENCE BETWEEN THE PRODUCT OF ORDERS BY EMPLOYEE'S SALES PERFORMANCE"
   ]
  },
  {
   "cell_type": "markdown",
   "metadata": {},
   "source": [
    "### HYPOTHESIS STATEMENT:\n",
    "\n",
    "* Null Hypothesis: There is no difference between employee sale performance.\n",
    "* Alternative Hypothesis: There is difference between employee sale performance.\n"
   ]
  },
  {
   "cell_type": "code",
   "execution_count": 49,
   "metadata": {},
   "outputs": [
    {
     "data": {
      "image/png": "[encoded data removed]",
      "text/plain": [
       "<Figure size 360x360 with 1 Axes>"
      ]
     },
     "metadata": {
      "needs_background": "light"
     },
     "output_type": "display_data"
    }
   ],
   "source": [
    "### Loaded data and have done initial EDA above\n",
    "# RECALL: group employee sale details by employee to calculate sum of sale quantity\n",
    "#empl_sale_df2 = empl_sale_df.groupby(['SalePerson', 'SalePersonID']).sum()\n",
    "#empl_sale_df2.drop(columns=['ProductId', 'Discount'], inplace=True)\n",
    "#empl_sale_df2.reset_index(inplace=True)\n",
    "#print(empl_sale_df2)\n",
    "\n",
    "# plot\n",
    "g = sns.catplot(data=empl_sale_df2, x='SalePerson', y='Quantity', kind=\"bar\", palette = 'deep')\n",
    "g.set_ylabels(\"Sale by Employee\")\n",
    "g.set_xticklabels(rotation=45);"
   ]
  },
  {
   "cell_type": "code",
   "execution_count": 50,
   "metadata": {},
   "outputs": [
    {
     "data": {
      "text/html": [
       "<div>\n",
       "<style scoped>\n",
       "    .dataframe tbody tr th:only-of-type {\n",
       "        vertical-align: middle;\n",
       "    }\n",
       "\n",
       "    .dataframe tbody tr th {\n",
       "        vertical-align: top;\n",
       "    }\n",
       "\n",
       "    .dataframe thead th {\n",
       "        text-align: right;\n",
       "    }\n",
       "</style>\n",
       "<table border=\"1\" class=\"dataframe\">\n",
       "  <thead>\n",
       "    <tr style=\"text-align: right;\">\n",
       "      <th>SalePersonID</th>\n",
       "      <th>1</th>\n",
       "      <th>2</th>\n",
       "      <th>3</th>\n",
       "      <th>4</th>\n",
       "      <th>5</th>\n",
       "      <th>6</th>\n",
       "      <th>7</th>\n",
       "      <th>8</th>\n",
       "      <th>9</th>\n",
       "    </tr>\n",
       "  </thead>\n",
       "  <tbody>\n",
       "    <tr>\n",
       "      <th>ProductId</th>\n",
       "      <td>41.182609</td>\n",
       "      <td>38.958506</td>\n",
       "      <td>42.174455</td>\n",
       "      <td>40.507143</td>\n",
       "      <td>41.675214</td>\n",
       "      <td>41.654762</td>\n",
       "      <td>40.011364</td>\n",
       "      <td>40.865385</td>\n",
       "      <td>39.439252</td>\n",
       "    </tr>\n",
       "    <tr>\n",
       "      <th>Discount</th>\n",
       "      <td>0.049246</td>\n",
       "      <td>0.043776</td>\n",
       "      <td>0.049688</td>\n",
       "      <td>0.061310</td>\n",
       "      <td>0.066667</td>\n",
       "      <td>0.054464</td>\n",
       "      <td>0.073580</td>\n",
       "      <td>0.056154</td>\n",
       "      <td>0.068224</td>\n",
       "    </tr>\n",
       "    <tr>\n",
       "      <th>Quantity</th>\n",
       "      <td>22.643478</td>\n",
       "      <td>25.124481</td>\n",
       "      <td>24.461059</td>\n",
       "      <td>23.328571</td>\n",
       "      <td>25.948718</td>\n",
       "      <td>20.994048</td>\n",
       "      <td>26.443182</td>\n",
       "      <td>22.742308</td>\n",
       "      <td>24.953271</td>\n",
       "    </tr>\n",
       "  </tbody>\n",
       "</table>\n",
       "</div>"
      ],
      "text/plain": [
       "SalePersonID          1          2          3          4          5  \\\n",
       "ProductId     41.182609  38.958506  42.174455  40.507143  41.675214   \n",
       "Discount       0.049246   0.043776   0.049688   0.061310   0.066667   \n",
       "Quantity      22.643478  25.124481  24.461059  23.328571  25.948718   \n",
       "\n",
       "SalePersonID          6          7          8          9  \n",
       "ProductId     41.654762  40.011364  40.865385  39.439252  \n",
       "Discount       0.054464   0.073580   0.056154   0.068224  \n",
       "Quantity      20.994048  26.443182  22.742308  24.953271  "
      ]
     },
     "execution_count": 50,
     "metadata": {},
     "output_type": "execute_result"
    }
   ],
   "source": [
    "empl_sale_df.groupby(['SalePersonID']).mean().T"
   ]
  },
  {
   "cell_type": "markdown",
   "metadata": {},
   "source": [
    "### ANOVA TEST"
   ]
  },
  {
   "cell_type": "code",
   "execution_count": 51,
   "metadata": {},
   "outputs": [
    {
     "name": "stdout",
     "output_type": "stream",
     "text": [
      "                        sum_sq      df         F   PR(>F)\n",
      "C(SalePersonID)    4643.183282     8.0  1.607646  0.11745\n",
      "Residual         774756.452913  2146.0       NaN      NaN\n"
     ]
    }
   ],
   "source": [
    "formula = 'Quantity ~ C(SalePersonID)'\n",
    "lm = ols(formula, empl_sale_df).fit()\n",
    "table = sm.stats.anova_lm(lm, typ=2)\n",
    "print(table)"
   ]
  },
  {
   "cell_type": "markdown",
   "metadata": {},
   "source": [
    "### CONCLUSION:\n",
    "\n",
    "* The p-value = 0.12 > 0.05, we fail to reject null hypothesis. There is no difference in product quantiy of orders between employees' sales performance. \n",
    "\n",
    "* We need to set sales target for employees monthly, quarterly, yearly.\n",
    "* We need to have recognition rewards for employees who achive the sales target, raise sales commission to encourage employees to improve their sales performance.\n",
    "* Besides, marketing training is a need also."
   ]
  },
  {
   "cell_type": "markdown",
   "metadata": {},
   "source": [
    "### DIFFERENCE BETWEEN PRODUCT QUANTITY OF ORDERS BY CUSTOMER COUNTRIES"
   ]
  },
  {
   "cell_type": "markdown",
   "metadata": {},
   "source": [
    "### HYPOTHESIS TEST\n",
    "\n",
    "* Null Hypothesis: There is no difference of mean values between the product quantity of orders by customer country.\n",
    "* Alternate Hypothesis: there is difference of mean values between the product quantity of orders by customer country."
   ]
  },
  {
   "cell_type": "code",
   "execution_count": 52,
   "metadata": {},
   "outputs": [
    {
     "data": {
      "text/html": [
       "<div>\n",
       "<style scoped>\n",
       "    .dataframe tbody tr th:only-of-type {\n",
       "        vertical-align: middle;\n",
       "    }\n",
       "\n",
       "    .dataframe tbody tr th {\n",
       "        vertical-align: top;\n",
       "    }\n",
       "\n",
       "    .dataframe thead th {\n",
       "        text-align: right;\n",
       "    }\n",
       "</style>\n",
       "<table border=\"1\" class=\"dataframe\">\n",
       "  <thead>\n",
       "    <tr style=\"text-align: right;\">\n",
       "      <th>Country</th>\n",
       "      <th>Argentina</th>\n",
       "      <th>Austria</th>\n",
       "      <th>Belgium</th>\n",
       "      <th>Brazil</th>\n",
       "      <th>Canada</th>\n",
       "      <th>Denmark</th>\n",
       "      <th>Finland</th>\n",
       "      <th>France</th>\n",
       "      <th>Germany</th>\n",
       "      <th>Ireland</th>\n",
       "      <th>Italy</th>\n",
       "      <th>Mexico</th>\n",
       "      <th>Norway</th>\n",
       "      <th>Poland</th>\n",
       "      <th>Portugal</th>\n",
       "      <th>Spain</th>\n",
       "      <th>Sweden</th>\n",
       "      <th>Switzerland</th>\n",
       "      <th>UK</th>\n",
       "      <th>USA</th>\n",
       "      <th>Venezuela</th>\n",
       "    </tr>\n",
       "  </thead>\n",
       "  <tbody>\n",
       "    <tr>\n",
       "      <th>Quantity</th>\n",
       "      <td>207</td>\n",
       "      <td>5167</td>\n",
       "      <td>1392</td>\n",
       "      <td>3216</td>\n",
       "      <td>1984</td>\n",
       "      <td>1170</td>\n",
       "      <td>885</td>\n",
       "      <td>3174</td>\n",
       "      <td>9213</td>\n",
       "      <td>1684</td>\n",
       "      <td>822</td>\n",
       "      <td>666</td>\n",
       "      <td>161</td>\n",
       "      <td>205</td>\n",
       "      <td>533</td>\n",
       "      <td>718</td>\n",
       "      <td>2235</td>\n",
       "      <td>1275</td>\n",
       "      <td>2742</td>\n",
       "      <td>9330</td>\n",
       "      <td>2936</td>\n",
       "    </tr>\n",
       "  </tbody>\n",
       "</table>\n",
       "</div>"
      ],
      "text/plain": [
       "Country   Argentina  Austria  Belgium  Brazil  Canada  Denmark  Finland  \\\n",
       "Quantity        207     5167     1392    3216    1984     1170      885   \n",
       "\n",
       "Country   France  Germany  Ireland  Italy  Mexico  Norway  Poland  Portugal  \\\n",
       "Quantity    3174     9213     1684    822     666     161     205       533   \n",
       "\n",
       "Country   Spain  Sweden  Switzerland    UK   USA  Venezuela  \n",
       "Quantity    718    2235         1275  2742  9330       2936  "
      ]
     },
     "execution_count": 52,
     "metadata": {},
     "output_type": "execute_result"
    }
   ],
   "source": [
    "sale_by_country_df = pd.read_sql_query('''\n",
    "                                SELECT O.OrderDate, OD.Quantity, \n",
    "                                       C.ID AS CustomerID, C.Country\n",
    "                                FROM [Order] AS O\n",
    "                                JOIN OrderDetail AS OD ON O.Id = OD.OrderId\n",
    "                                JOIN Customer AS C ON C.ID=O.CustomerID\n",
    "                            ''', conn)\n",
    "\n",
    "country_sale = sale_by_country_df.groupby(['Country']).sum()\n",
    "pd.options.display.max_columns = None\n",
    "country_sale.T"
   ]
  },
  {
   "cell_type": "code",
   "execution_count": 53,
   "metadata": {},
   "outputs": [
    {
     "data": {
      "image/png": "[encoded data removed]",
      "text/plain": [
       "<Figure size 720x360 with 1 Axes>"
      ]
     },
     "metadata": {
      "needs_background": "light"
     },
     "output_type": "display_data"
    }
   ],
   "source": [
    "sale_by_country_df1 = sale_by_country_df.groupby(['Country']).sum()\n",
    "sale_by_country_df1.reset_index(inplace=True)\n",
    "sale_by_country_df1 = sale_by_country_df1.sort_values(['Quantity'])\n",
    "\n",
    "chart = sns.catplot(data=sale_by_country_df1, x='Country', y='Quantity', kind='bar', height=5, aspect=2)\n",
    "chart.set_ylabels(\"Sale by Country\")\n",
    "chart.set_xticklabels(rotation=45);\n"
   ]
  },
  {
   "cell_type": "markdown",
   "metadata": {},
   "source": [
    "### ANOVA TEST"
   ]
  },
  {
   "cell_type": "code",
   "execution_count": 54,
   "metadata": {},
   "outputs": [
    {
     "name": "stdout",
     "output_type": "stream",
     "text": [
      "                   sum_sq      df          F        PR(>F)\n",
      "C(Country)   91626.751121    20.0  14.061982  1.197549e-44\n",
      "Residual    670162.386992  2057.0        NaN           NaN\n"
     ]
    }
   ],
   "source": [
    "formula = 'Quantity ~ C(Country)'\n",
    "lm = ols(formula, sale_by_country_df).fit()\n",
    "table = sm.stats.anova_lm(lm, typ=2)\n",
    "print(table)"
   ]
  },
  {
   "cell_type": "markdown",
   "metadata": {},
   "source": [
    "### CONCLUSION:\n",
    "* The p-value = 1.20 > 0.05, we fail to reject the null hypothesis \n",
    "* The sales of each country is not different with other sales of other countries. We need to understand why in order we can increase the sales for next term, next season."
   ]
  },
  {
   "cell_type": "markdown",
   "metadata": {},
   "source": [
    "### MORE RESEARCH:\n",
    "\n",
    "* Compare sales between Employees from US and from UK. \n",
    "\n",
    "* We need to check sales on disproduce products\n",
    "\n",
    "* With the relatively same discount program were given across categories, is there any difference between categories sales\n",
    "\n",
    "* Research further if clients responded better to discount\n",
    "\n",
    "* Find out optimal level of discount for products according to their price and possible seasonal demand\n",
    "\n",
    "* Performance of shipping companies, supply chain management (SCM)."
   ]
  },
  {
   "cell_type": "code",
   "execution_count": null,
   "metadata": {},
   "outputs": [],
   "source": []
  }
 ],
 "metadata": {
  "kernelspec": {
   "display_name": "Python 3",
   "language": "python",
   "name": "python3"
  },
  "language_info": {
   "codemirror_mode": {
    "name": "ipython",
    "version": 3
   },
   "file_extension": ".py",
   "mimetype": "text/x-python",
   "name": "python",
   "nbconvert_exporter": "python",
   "pygments_lexer": "ipython3",
   "version": "3.7.3"
  }
 },
 "nbformat": 4,
 "nbformat_minor": 2
}
